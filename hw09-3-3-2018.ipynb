{
 "cells": [
  {
   "cell_type": "markdown",
   "metadata": {},
   "source": [
    "Introduction to Data Science <br> Winter 2018\n",
    "\n",
    "# Homework 9\n",
    "Due Sunday, 3/11/2018 , 3:00am\n",
    "\n",
    "Please complete this notebook by filling in the cells provided. Once you are finished, \"Save and Checkpoint\" the notebook, download the ipynb and html versions to your computer, and submit the html version. \n",
    "\n",
    "**Total points:** 145"
   ]
  },
  {
   "cell_type": "code",
   "execution_count": 2,
   "metadata": {},
   "outputs": [
    {
     "name": "stdout",
     "output_type": "stream",
     "text": [
      "Collecting datascience\n",
      "  Downloading datascience-0.10.4.tar.gz (40kB)\n",
      "\u001b[K    100% |████████████████████████████████| 40kB 2.2MB/s ta 0:00:011\n",
      "\u001b[?25hCollecting folium==0.1.5 (from datascience)\n",
      "  Downloading folium-0.1.5.tar.gz (41kB)\n",
      "\u001b[K    100% |████████████████████████████████| 51kB 2.9MB/s eta 0:00:01\n",
      "\u001b[?25hRequirement already satisfied: sphinx in /home/nbuser/anaconda3_420/lib/python3.5/site-packages/Sphinx-1.4.6-py3.5.egg (from datascience)\n",
      "Requirement already satisfied: setuptools in /home/nbuser/anaconda3_420/lib/python3.5/site-packages (from datascience)\n",
      "Requirement already satisfied: pytest in /home/nbuser/anaconda3_420/lib/python3.5/site-packages (from datascience)\n",
      "Collecting coverage==3.7.1 (from datascience)\n",
      "  Downloading coverage-3.7.1.tar.gz (284kB)\n",
      "\u001b[K    100% |████████████████████████████████| 286kB 2.2MB/s eta 0:00:01\n",
      "\u001b[?25hCollecting coveralls==0.5 (from datascience)\n",
      "  Downloading coveralls-0.5.zip\n",
      "Requirement already satisfied: six>=1.5 in /home/nbuser/anaconda3_420/lib/python3.5/site-packages (from sphinx->datascience)\n",
      "Requirement already satisfied: Jinja2>=2.3 in /home/nbuser/anaconda3_420/lib/python3.5/site-packages (from sphinx->datascience)\n",
      "Requirement already satisfied: Pygments>=2.0 in /home/nbuser/anaconda3_420/lib/python3.5/site-packages (from sphinx->datascience)\n",
      "Requirement already satisfied: docutils>=0.11 in /home/nbuser/anaconda3_420/lib/python3.5/site-packages (from sphinx->datascience)\n",
      "Requirement already satisfied: snowballstemmer>=1.1 in /home/nbuser/anaconda3_420/lib/python3.5/site-packages (from sphinx->datascience)\n",
      "Requirement already satisfied: babel!=2.0,>=1.3 in /home/nbuser/anaconda3_420/lib/python3.5/site-packages (from sphinx->datascience)\n",
      "Requirement already satisfied: alabaster<0.8,>=0.7 in /home/nbuser/anaconda3_420/lib/python3.5/site-packages (from sphinx->datascience)\n",
      "Requirement already satisfied: imagesize in /home/nbuser/anaconda3_420/lib/python3.5/site-packages (from sphinx->datascience)\n",
      "Requirement already satisfied: py>=1.4.29 in /home/nbuser/anaconda3_420/lib/python3.5/site-packages (from pytest->datascience)\n",
      "Requirement already satisfied: PyYAML>=3.10 in /home/nbuser/anaconda3_420/lib/python3.5/site-packages (from coveralls==0.5->datascience)\n",
      "Collecting docopt>=0.6.1 (from coveralls==0.5->datascience)\n",
      "  Downloading docopt-0.6.2.tar.gz\n",
      "Requirement already satisfied: requests>=1.0.0 in /home/nbuser/anaconda3_420/lib/python3.5/site-packages (from coveralls==0.5->datascience)\n",
      "Requirement already satisfied: MarkupSafe in /home/nbuser/anaconda3_420/lib/python3.5/site-packages (from Jinja2>=2.3->sphinx->datascience)\n",
      "Requirement already satisfied: pytz>=0a in /home/nbuser/anaconda3_420/lib/python3.5/site-packages (from babel!=2.0,>=1.3->sphinx->datascience)\n",
      "Building wheels for collected packages: datascience, folium, coverage, coveralls, docopt\n",
      "  Running setup.py bdist_wheel for datascience ... \u001b[?25ldone\n",
      "\u001b[?25h  Stored in directory: /home/nbuser/.cache/pip/wheels/f7/28/00/e2de1c86cfb882f8ffbc46bc17bccaa8f0295dcc394595396b\n",
      "  Running setup.py bdist_wheel for folium ... \u001b[?25ldone\n",
      "\u001b[?25h  Stored in directory: /home/nbuser/.cache/pip/wheels/97/f3/25/51a7acd11b6663869c0723fe1c3f63c74725f3243d01d61ea7\n",
      "  Running setup.py bdist_wheel for coverage ... \u001b[?25ldone\n",
      "\u001b[?25h  Stored in directory: /home/nbuser/.cache/pip/wheels/09/d5/14/fad8864342631171117f01b9b2473a07c053e5c1054d40e48c\n",
      "  Running setup.py bdist_wheel for coveralls ... \u001b[?25ldone\n",
      "\u001b[?25h  Stored in directory: /home/nbuser/.cache/pip/wheels/c1/39/ce/1ad042a101a8475a7b9e8344f53a789c9eeb2697ed3e8dd35b\n",
      "  Running setup.py bdist_wheel for docopt ... \u001b[?25ldone\n",
      "\u001b[?25h  Stored in directory: /home/nbuser/.cache/pip/wheels/b2/16/5f/c33a2bb5f2dce71205f8e65cbfd05647d79d441282be31fd82\n",
      "Successfully built datascience folium coverage coveralls docopt\n",
      "Installing collected packages: folium, coverage, docopt, coveralls, datascience\n",
      "Successfully installed coverage-3.7.1 coveralls-0.5 datascience-0.10.4 docopt-0.6.2 folium-0.1.5\n",
      "\u001b[33mYou are using pip version 9.0.1, however version 9.0.3 is available.\n",
      "You should consider upgrading via the 'pip install --upgrade pip' command.\u001b[0m\n"
     ]
    }
   ],
   "source": [
    "!pip install datascience\n",
    "\n",
    "import numpy as np\n",
    "from datascience import *\n",
    "import matplotlib\n",
    "%matplotlib inline\n",
    "import matplotlib.pyplot as plots\n",
    "plots.style.use('fivethirtyeight')\n",
    "from sklearn.linear_model import LinearRegression\n",
    "from sklearn.neighbors import KNeighborsClassifier\n"
   ]
  },
  {
   "cell_type": "markdown",
   "metadata": {},
   "source": [
    "## 1. How Faithful is Old Faithful? \n",
    "\n",
    "(Note: clever title comes from [here](http://web.pdx.edu/~jfreder/M212/oldfaithful.pdf).)\n",
    "\n",
    "Old Faithful is a geyser in Yellowstone National Park in the central United States.  It's famous for erupting on a fairly regular schedule.  You can see a video below."
   ]
  },
  {
   "cell_type": "code",
   "execution_count": 3,
   "metadata": {},
   "outputs": [
    {
     "data": {
      "image/jpeg": "[encoded data removed]",
      "text/html": [
       "\n",
       "        <iframe\n",
       "            width=\"400\"\n",
       "            height=\"300\"\n",
       "            src=\"https://www.youtube.com/embed/wE8NDuzt8eg\"\n",
       "            frameborder=\"0\"\n",
       "            allowfullscreen\n",
       "        ></iframe>\n",
       "        "
      ],
      "text/plain": [
       "<IPython.lib.display.YouTubeVideo at 0x7f2721381a58>"
      ]
     },
     "execution_count": 3,
     "metadata": {},
     "output_type": "execute_result"
    }
   ],
   "source": [
    "\n",
    "from IPython.display import YouTubeVideo\n",
    "YouTubeVideo(\"wE8NDuzt8eg\")"
   ]
  },
  {
   "cell_type": "code",
   "execution_count": 3,
   "metadata": {},
   "outputs": [
    {
     "data": {
      "text/html": [
       "<table border=\"1\" class=\"dataframe\">\n",
       "    <thead>\n",
       "        <tr>\n",
       "            <th>duration</th> <th>wait</th>\n",
       "        </tr>\n",
       "    </thead>\n",
       "    <tbody>\n",
       "        <tr>\n",
       "            <td>1.6     </td> <td>52  </td>\n",
       "        </tr>\n",
       "    </tbody>\n",
       "        <tr>\n",
       "            <td>1.667   </td> <td>64  </td>\n",
       "        </tr>\n",
       "    </tbody>\n",
       "        <tr>\n",
       "            <td>1.7     </td> <td>59  </td>\n",
       "        </tr>\n",
       "    </tbody>\n",
       "        <tr>\n",
       "            <td>1.733   </td> <td>54  </td>\n",
       "        </tr>\n",
       "    </tbody>\n",
       "        <tr>\n",
       "            <td>1.75    </td> <td>47  </td>\n",
       "        </tr>\n",
       "    </tbody>\n",
       "        <tr>\n",
       "            <td>1.75    </td> <td>62  </td>\n",
       "        </tr>\n",
       "    </tbody>\n",
       "        <tr>\n",
       "            <td>1.75    </td> <td>47  </td>\n",
       "        </tr>\n",
       "    </tbody>\n",
       "        <tr>\n",
       "            <td>1.75    </td> <td>58  </td>\n",
       "        </tr>\n",
       "    </tbody>\n",
       "        <tr>\n",
       "            <td>1.75    </td> <td>48  </td>\n",
       "        </tr>\n",
       "    </tbody>\n",
       "        <tr>\n",
       "            <td>1.75    </td> <td>54  </td>\n",
       "        </tr>\n",
       "    </tbody>\n",
       "</table>\n",
       "<p>... (262 rows omitted)</p>"
      ],
      "text/plain": [
       "duration | wait\n",
       "1.6      | 52\n",
       "1.667    | 64\n",
       "1.7      | 59\n",
       "1.733    | 54\n",
       "1.75     | 47\n",
       "1.75     | 62\n",
       "1.75     | 47\n",
       "1.75     | 58\n",
       "1.75     | 48\n",
       "1.75     | 54\n",
       "... (262 rows omitted)"
      ]
     },
     "execution_count": 3,
     "metadata": {},
     "output_type": "execute_result"
    }
   ],
   "source": [
    "faithful = Table.read_table(\"faithful.csv\")\n",
    "\n",
    "faithful = faithful.sort('duration')\n",
    "faithful"
   ]
  },
  {
   "cell_type": "markdown",
   "metadata": {},
   "source": [
    "use linear regression to make predictions"
   ]
  },
  {
   "cell_type": "markdown",
   "metadata": {},
   "source": [
    "\n",
    "Make a scatterplot of the data. "
   ]
  },
  {
   "cell_type": "code",
   "execution_count": 4,
   "metadata": {},
   "outputs": [
    {
     "data": {
      "image/png": "[encoded data removed]",
      "text/plain": [
       "<matplotlib.figure.Figure at 0x7f831c1a1160>"
      ]
     },
     "metadata": {},
     "output_type": "display_data"
    }
   ],
   "source": [
    "faithful.scatter(\"duration\", fit_line = True)"
   ]
  },
  {
   "cell_type": "markdown",
   "metadata": {},
   "source": [
    "**Question 2** (5 points)\n",
    "\n",
    "Look at the scatterplot. Are eruption duration and waiting time roughly linearly related?  Is the relationship positive, as we claimed earlier?  You may want to consult [the textbook chapter 15](https://www.inferentialthinking.com/chapters/15/prediction.html) for the definition of \"linearly related.\""
   ]
  },
  {
   "cell_type": "markdown",
   "metadata": {
    "collapsed": true
   },
   "source": [
    "It seems like there are two clusters. Also each clusters are nearly linear."
   ]
  },
  {
   "cell_type": "markdown",
   "metadata": {},
   "source": [
    "**Question 3** (10 points)\n",
    "\n",
    "Use the linear regession module from scikit-learn to fit the least squares line to the data. Print the slope and the intercept of the line.\n",
    "\n",
    "**Hint:** Take a look at \"Statistical learning Part 1\""
   ]
  },
  {
   "cell_type": "code",
   "execution_count": 5,
   "metadata": {},
   "outputs": [
    {
     "name": "stdout",
     "output_type": "stream",
     "text": [
      "slope :  10.7296413951\n",
      "intercept :  33.4743970228\n"
     ]
    }
   ],
   "source": [
    "lin_reg = LinearRegression()\n",
    "x = faithful.column('duration').reshape(-1,1)\n",
    "lin_reg.fit(x,faithful.column('wait'))\n",
    "a = lin_reg.intercept_\n",
    "b = lin_reg.coef_[0]\n",
    "print(\"slope : \", b)\n",
    "print(\"intercept : \", a)"
   ]
  },
  {
   "cell_type": "markdown",
   "metadata": {},
   "source": [
    "**Question 4** (10 points)\n",
    "\n",
    "Calculate median absolute prediction error, mean squared prediction error, and coefficient of determination R^2."
   ]
  },
  {
   "cell_type": "code",
   "execution_count": 6,
   "metadata": {},
   "outputs": [
    {
     "name": "stdout",
     "output_type": "stream",
     "text": [
      "median absolute prediction error :  4.10406849844\n",
      "mean squared prediction error :  34.7183347287\n",
      "R^2 :  0.811460760973\n"
     ]
    }
   ],
   "source": [
    "\n",
    "# increase as prediction get worse\n",
    "def mae(y,y_hat):\n",
    "    return np.median(np.abs(y-y_hat))\n",
    "\n",
    "def mse(y,y_hat):\n",
    "    return np.mean((y-y_hat)**2)\n",
    "\n",
    "# 1 is good 0 is bad, no relationship.\n",
    "def rsq(y,y_hat):\n",
    "    ss_residual = ((y - y_hat)**2).sum()\n",
    "    ss_total = ((y - y.mean())**2).sum()\n",
    "    return (1 - ss_residual/ss_total)\n",
    "\n",
    "y = faithful.column(\"wait\")\n",
    "y_reg = lin_reg.predict(x)\n",
    "\n",
    "print(\"median absolute prediction error : \", mae(y, y_reg))\n",
    "print(\"mean squared prediction error : \", mse(y, y_reg))\n",
    "print(\"R^2 : \", rsq(y, y_reg))\n",
    "    "
   ]
  },
  {
   "cell_type": "markdown",
   "metadata": {},
   "source": [
    "**Question 5** (10 points)\n",
    "\n",
    "Divide the data into a subset \"short\" containing eruptions of duration < 3min and  a subset \"long \" containing the rest.\n",
    "\n",
    "A simple rule would be use a piecewise constant predictor: predict the waiting time after a short eruption by np.mean(short.column(\"wait\")) and the waiting time after a long eruption by np.mean(long.column(\"wait\")).\n",
    "\n",
    "Calculate median absolute prediction error, mean squared prediction error, and coefficient of determination R^2 for the piecewise constant predictor."
   ]
  },
  {
   "cell_type": "code",
   "execution_count": 7,
   "metadata": {},
   "outputs": [
    {
     "name": "stdout",
     "output_type": "stream",
     "text": [
      "median absolute prediction error :  3.98857142857\n",
      "mean squared prediction error :  35.0228844321\n",
      "R^2 :  0.80980689221\n"
     ]
    }
   ],
   "source": [
    "short = faithful.where('duration', are.below(3))\n",
    "long = faithful.where('duration', are.above_or_equal_to(3))\n",
    "short_mean = short.column('wait').mean()\n",
    "long_mean = long.column('wait').mean()\n",
    "y_pc = np.array([short_mean]*short.num_rows + [long_mean]*long.num_rows)\n",
    "faithful = faithful.with_column('piecewise_constant', y_pc)\n",
    "\n",
    "print (\"median absolute prediction error : \", mae(faithful.column(\"wait\"), faithful.column('piecewise_constant')))\n",
    "print (\"mean squared prediction error : \", mse(faithful.column(\"wait\"), faithful.column('piecewise_constant')))\n",
    "print (\"R^2 : \", rsq(faithful.column(\"wait\"), faithful.column('piecewise_constant')))\n"
   ]
  },
  {
   "cell_type": "markdown",
   "metadata": {},
   "source": [
    "**Question 6** (10 points)\n",
    "\n",
    "Is the linear predictor doing better, about the same, or worse that the piecewise constant predictor? Justify your answer."
   ]
  },
  {
   "cell_type": "markdown",
   "metadata": {
    "collapsed": true
   },
   "source": [
    "Bothe linear and piecewise predictors predicts the data about the same, but linear predictor is slightly better prediction than piecewise constant predictor."
   ]
  },
  {
   "cell_type": "markdown",
   "metadata": {},
   "source": [
    "## 2. Implementing a k-nearest-neighbor classifier"
   ]
  },
  {
   "cell_type": "code",
   "execution_count": 8,
   "metadata": {
    "scrolled": true
   },
   "outputs": [
    {
     "data": {
      "text/html": [
       "<table border=\"1\" class=\"dataframe\">\n",
       "    <thead>\n",
       "        <tr>\n",
       "            <th>0</th> <th>1</th> <th>response</th>\n",
       "        </tr>\n",
       "    </thead>\n",
       "    <tbody>\n",
       "        <tr>\n",
       "            <td>0   </td> <td>0   </td> <td>0       </td>\n",
       "        </tr>\n",
       "    </tbody>\n",
       "        <tr>\n",
       "            <td>1   </td> <td>0   </td> <td>1       </td>\n",
       "        </tr>\n",
       "    </tbody>\n",
       "        <tr>\n",
       "            <td>3   </td> <td>0   </td> <td>0       </td>\n",
       "        </tr>\n",
       "    </tbody>\n",
       "        <tr>\n",
       "            <td>7   </td> <td>0   </td> <td>1       </td>\n",
       "        </tr>\n",
       "    </tbody>\n",
       "</table>"
      ],
      "text/plain": [
       "<IPython.core.display.HTML object>"
      ]
     },
     "metadata": {},
     "output_type": "display_data"
    }
   ],
   "source": [
    "# Here is code to make a small table mini_train for debugging\n",
    "\n",
    "mini_train = Table().with_columns(\"0\", [0, 1, 3, 7], \"1\", [0, 0, 0, 0], \"response\", [\"0\", \"1\", \"0\", \"1\"])\n",
    "mini_train.show()"
   ]
  },
  {
   "cell_type": "code",
   "execution_count": 1,
   "metadata": {},
   "outputs": [
    {
     "ename": "NameError",
     "evalue": "name 'Table' is not defined",
     "output_type": "error",
     "traceback": [
      "\u001b[0;31m---------------------------------------------------------------------------\u001b[0m",
      "\u001b[0;31mNameError\u001b[0m                                 Traceback (most recent call last)",
      "\u001b[0;32m<ipython-input-1-1ed3ef50baae>\u001b[0m in \u001b[0;36m<module>\u001b[0;34m()\u001b[0m\n\u001b[1;32m      1\u001b[0m \u001b[0;34m\u001b[0m\u001b[0m\n\u001b[0;32m----> 2\u001b[0;31m \u001b[0mdigit_train\u001b[0m \u001b[0;34m=\u001b[0m \u001b[0mTable\u001b[0m\u001b[0;34m.\u001b[0m\u001b[0mread_table\u001b[0m\u001b[0;34m(\u001b[0m\u001b[0;34m\"optdigits-mini-train.csv\"\u001b[0m\u001b[0;34m)\u001b[0m\u001b[0;34m\u001b[0m\u001b[0m\n\u001b[0m\u001b[1;32m      3\u001b[0m \u001b[0mdigit_train\u001b[0m \u001b[0;34m=\u001b[0m \u001b[0mdigit_train\u001b[0m\u001b[0;34m.\u001b[0m\u001b[0mrelabel\u001b[0m\u001b[0;34m(\u001b[0m\u001b[0;34m\"64\"\u001b[0m\u001b[0;34m,\u001b[0m \u001b[0;34m\"response\"\u001b[0m\u001b[0;34m)\u001b[0m  \u001b[0;31m# relabel modifies\u001b[0m\u001b[0;34m\u001b[0m\u001b[0m\n\u001b[1;32m      4\u001b[0m \u001b[0;34m\u001b[0m\u001b[0m\n\u001b[1;32m      5\u001b[0m \u001b[0mdigit_test\u001b[0m \u001b[0;34m=\u001b[0m \u001b[0mTable\u001b[0m\u001b[0;34m.\u001b[0m\u001b[0mread_table\u001b[0m\u001b[0;34m(\u001b[0m\u001b[0;34m\"optdigits-mini-test.csv\"\u001b[0m\u001b[0;34m)\u001b[0m\u001b[0;34m\u001b[0m\u001b[0m\n",
      "\u001b[0;31mNameError\u001b[0m: name 'Table' is not defined"
     ]
    }
   ],
   "source": [
    "\n",
    "digit_train = Table.read_table(\"optdigits-mini-train.csv\")\n",
    "digit_train = digit_train.relabel(\"64\", \"response\")  # relabel modifies\n",
    "\n",
    "digit_test = Table.read_table(\"optdigits-mini-test.csv\")\n",
    "digit_test = digit_test.relabel(\"64\", \"response\")\n"
   ]
  },
  {
   "cell_type": "markdown",
   "metadata": {},
   "source": [
    "\n"
   ]
  },
  {
   "cell_type": "code",
   "execution_count": 10,
   "metadata": {},
   "outputs": [
    {
     "data": {
      "text/html": [
       "<table border=\"1\" class=\"dataframe\">\n",
       "    <thead>\n",
       "        <tr>\n",
       "            <th>0</th> <th>1</th> <th>2</th> <th>3</th> <th>4</th> <th>5</th> <th>6</th> <th>7</th> <th>8</th> <th>9</th> <th>10</th> <th>11</th> <th>12</th> <th>13</th> <th>14</th> <th>15</th> <th>16</th> <th>17</th> <th>18</th> <th>19</th> <th>20</th> <th>21</th> <th>22</th> <th>23</th> <th>24</th> <th>25</th> <th>26</th> <th>27</th> <th>28</th> <th>29</th> <th>30</th> <th>31</th> <th>32</th> <th>33</th> <th>34</th> <th>35</th> <th>36</th> <th>37</th> <th>38</th> <th>39</th> <th>40</th> <th>41</th> <th>42</th> <th>43</th> <th>44</th> <th>45</th> <th>46</th> <th>47</th> <th>48</th> <th>49</th> <th>50</th> <th>51</th> <th>52</th> <th>53</th> <th>54</th> <th>55</th> <th>56</th> <th>57</th> <th>58</th> <th>59</th> <th>60</th> <th>61</th> <th>62</th> <th>63</th> <th>64</th> <th>65</th> <th>66</th> <th>67</th> <th>68</th> <th>69</th> <th>70</th> <th>71</th> <th>72</th> <th>73</th> <th>74</th> <th>75</th> <th>76</th> <th>77</th> <th>78</th> <th>79</th> <th>80</th> <th>81</th> <th>82</th> <th>83</th> <th>84</th> <th>85</th> <th>86</th> <th>87</th> <th>88</th> <th>89</th> <th>90</th> <th>91</th> <th>92</th> <th>93</th> <th>94</th> <th>95</th> <th>96</th> <th>97</th> <th>98</th> <th>99</th> <th>100</th> <th>101</th> <th>102</th> <th>103</th> <th>104</th> <th>105</th> <th>106</th> <th>107</th> <th>108</th> <th>109</th> <th>110</th> <th>111</th> <th>112</th> <th>113</th> <th>114</th> <th>115</th> <th>116</th> <th>117</th> <th>118</th> <th>119</th> <th>120</th> <th>121</th> <th>122</th> <th>123</th> <th>124</th> <th>125</th> <th>126</th> <th>127</th> <th>128</th> <th>129</th> <th>130</th> <th>131</th> <th>132</th> <th>133</th> <th>134</th> <th>135</th> <th>136</th> <th>137</th> <th>138</th> <th>139</th> <th>140</th> <th>141</th> <th>142</th> <th>143</th> <th>144</th> <th>145</th> <th>146</th> <th>147</th> <th>148</th> <th>149</th> <th>150</th> <th>151</th> <th>152</th> <th>153</th> <th>154</th> <th>155</th> <th>156</th> <th>157</th> <th>158</th> <th>159</th> <th>160</th> <th>161</th> <th>162</th> <th>163</th> <th>164</th> <th>165</th> <th>166</th> <th>167</th> <th>168</th> <th>169</th> <th>170</th> <th>171</th> <th>172</th> <th>173</th> <th>174</th> <th>175</th> <th>176</th> <th>177</th> <th>178</th> <th>179</th> <th>180</th> <th>181</th> <th>182</th> <th>183</th> <th>184</th> <th>185</th> <th>186</th> <th>187</th> <th>188</th> <th>189</th> <th>190</th> <th>191</th> <th>192</th> <th>193</th> <th>194</th> <th>195</th> <th>196</th> <th>197</th> <th>198</th> <th>199</th>\n",
       "        </tr>\n",
       "    </thead>\n",
       "    <tbody>\n",
       "        <tr>\n",
       "            <td>0   </td> <td>0   </td> <td>0   </td> <td>0   </td> <td>0   </td> <td>0   </td> <td>0   </td> <td>0   </td> <td>0   </td> <td>0   </td> <td>0   </td> <td>0   </td> <td>0   </td> <td>0   </td> <td>0   </td> <td>0   </td> <td>0   </td> <td>0   </td> <td>0   </td> <td>0   </td> <td>1   </td> <td>1   </td> <td>1   </td> <td>1   </td> <td>1   </td> <td>1   </td> <td>1   </td> <td>1   </td> <td>1   </td> <td>1   </td> <td>1   </td> <td>1   </td> <td>1   </td> <td>1   </td> <td>8   </td> <td>1   </td> <td>1   </td> <td>5   </td> <td>1   </td> <td>1   </td> <td>2   </td> <td>2   </td> <td>2   </td> <td>2   </td> <td>2   </td> <td>2   </td> <td>2   </td> <td>9   </td> <td>2   </td> <td>2   </td> <td>2   </td> <td>2   </td> <td>2   </td> <td>2   </td> <td>2   </td> <td>2   </td> <td>2   </td> <td>1   </td> <td>2   </td> <td>2   </td> <td>3   </td> <td>3   </td> <td>3   </td> <td>3   </td> <td>3   </td> <td>3   </td> <td>3   </td> <td>3   </td> <td>3   </td> <td>3   </td> <td>3   </td> <td>9   </td> <td>3   </td> <td>3   </td> <td>3   </td> <td>3   </td> <td>3   </td> <td>3   </td> <td>3   </td> <td>3   </td> <td>4   </td> <td>4   </td> <td>4   </td> <td>4   </td> <td>4   </td> <td>4   </td> <td>4   </td> <td>4   </td> <td>4   </td> <td>4   </td> <td>4   </td> <td>4   </td> <td>4   </td> <td>4   </td> <td>4   </td> <td>4   </td> <td>4   </td> <td>4   </td> <td>4   </td> <td>4   </td> <td>5   </td> <td>5   </td> <td>5   </td> <td>5   </td> <td>5   </td> <td>5   </td> <td>5   </td> <td>5   </td> <td>5   </td> <td>5   </td> <td>5   </td> <td>5   </td> <td>5   </td> <td>5   </td> <td>5   </td> <td>5   </td> <td>5   </td> <td>9   </td> <td>5   </td> <td>8   </td> <td>6   </td> <td>6   </td> <td>6   </td> <td>6   </td> <td>6   </td> <td>6   </td> <td>6   </td> <td>6   </td> <td>6   </td> <td>6   </td> <td>6   </td> <td>6   </td> <td>6   </td> <td>6   </td> <td>6   </td> <td>6   </td> <td>6   </td> <td>6   </td> <td>6   </td> <td>6   </td> <td>7   </td> <td>7   </td> <td>7   </td> <td>7   </td> <td>7   </td> <td>7   </td> <td>7   </td> <td>7   </td> <td>7   </td> <td>7   </td> <td>7   </td> <td>7   </td> <td>7   </td> <td>7   </td> <td>7   </td> <td>7   </td> <td>7   </td> <td>7   </td> <td>7   </td> <td>7   </td> <td>8   </td> <td>8   </td> <td>8   </td> <td>8   </td> <td>1   </td> <td>8   </td> <td>8   </td> <td>8   </td> <td>8   </td> <td>8   </td> <td>8   </td> <td>9   </td> <td>8   </td> <td>8   </td> <td>3   </td> <td>8   </td> <td>8   </td> <td>8   </td> <td>5   </td> <td>8   </td> <td>9   </td> <td>3   </td> <td>9   </td> <td>9   </td> <td>9   </td> <td>9   </td> <td>9   </td> <td>9   </td> <td>9   </td> <td>1   </td> <td>8   </td> <td>9   </td> <td>9   </td> <td>9   </td> <td>9   </td> <td>9   </td> <td>9   </td> <td>9   </td> <td>9   </td> <td>9   </td>\n",
       "        </tr>\n",
       "    </tbody>\n",
       "        <tr>\n",
       "            <td>0   </td> <td>0   </td> <td>0   </td> <td>0   </td> <td>0   </td> <td>0   </td> <td>0   </td> <td>0   </td> <td>0   </td> <td>0   </td> <td>0   </td> <td>0   </td> <td>0   </td> <td>0   </td> <td>0   </td> <td>0   </td> <td>0   </td> <td>0   </td> <td>0   </td> <td>0   </td> <td>1   </td> <td>1   </td> <td>1   </td> <td>1   </td> <td>1   </td> <td>1   </td> <td>5   </td> <td>1   </td> <td>1   </td> <td>1   </td> <td>1   </td> <td>1   </td> <td>1   </td> <td>1   </td> <td>1   </td> <td>1   </td> <td>1   </td> <td>3   </td> <td>5   </td> <td>1   </td> <td>2   </td> <td>2   </td> <td>2   </td> <td>2   </td> <td>2   </td> <td>2   </td> <td>2   </td> <td>3   </td> <td>2   </td> <td>2   </td> <td>9   </td> <td>2   </td> <td>2   </td> <td>3   </td> <td>2   </td> <td>2   </td> <td>2   </td> <td>2   </td> <td>2   </td> <td>2   </td> <td>3   </td> <td>3   </td> <td>3   </td> <td>5   </td> <td>3   </td> <td>3   </td> <td>9   </td> <td>3   </td> <td>3   </td> <td>3   </td> <td>3   </td> <td>3   </td> <td>3   </td> <td>3   </td> <td>3   </td> <td>3   </td> <td>3   </td> <td>3   </td> <td>3   </td> <td>3   </td> <td>1   </td> <td>4   </td> <td>4   </td> <td>4   </td> <td>4   </td> <td>4   </td> <td>4   </td> <td>4   </td> <td>4   </td> <td>4   </td> <td>4   </td> <td>4   </td> <td>4   </td> <td>4   </td> <td>4   </td> <td>4   </td> <td>4   </td> <td>4   </td> <td>4   </td> <td>4   </td> <td>5   </td> <td>5   </td> <td>5   </td> <td>5   </td> <td>9   </td> <td>5   </td> <td>3   </td> <td>5   </td> <td>5   </td> <td>5   </td> <td>6   </td> <td>5   </td> <td>5   </td> <td>5   </td> <td>5   </td> <td>5   </td> <td>3   </td> <td>9   </td> <td>5   </td> <td>8   </td> <td>6   </td> <td>6   </td> <td>6   </td> <td>6   </td> <td>6   </td> <td>6   </td> <td>6   </td> <td>6   </td> <td>6   </td> <td>6   </td> <td>6   </td> <td>6   </td> <td>6   </td> <td>6   </td> <td>6   </td> <td>6   </td> <td>6   </td> <td>6   </td> <td>6   </td> <td>6   </td> <td>7   </td> <td>7   </td> <td>7   </td> <td>7   </td> <td>7   </td> <td>7   </td> <td>7   </td> <td>7   </td> <td>7   </td> <td>7   </td> <td>2   </td> <td>7   </td> <td>7   </td> <td>7   </td> <td>7   </td> <td>7   </td> <td>7   </td> <td>7   </td> <td>7   </td> <td>7   </td> <td>8   </td> <td>8   </td> <td>8   </td> <td>8   </td> <td>1   </td> <td>6   </td> <td>8   </td> <td>8   </td> <td>8   </td> <td>8   </td> <td>8   </td> <td>8   </td> <td>8   </td> <td>8   </td> <td>8   </td> <td>8   </td> <td>8   </td> <td>3   </td> <td>5   </td> <td>8   </td> <td>9   </td> <td>3   </td> <td>9   </td> <td>9   </td> <td>9   </td> <td>9   </td> <td>9   </td> <td>9   </td> <td>9   </td> <td>9   </td> <td>9   </td> <td>9   </td> <td>5   </td> <td>9   </td> <td>9   </td> <td>9   </td> <td>9   </td> <td>9   </td> <td>9   </td> <td>9   </td>\n",
       "        </tr>\n",
       "    </tbody>\n",
       "        <tr>\n",
       "            <td>0   </td> <td>0   </td> <td>0   </td> <td>0   </td> <td>0   </td> <td>0   </td> <td>0   </td> <td>0   </td> <td>0   </td> <td>0   </td> <td>0   </td> <td>0   </td> <td>0   </td> <td>0   </td> <td>0   </td> <td>0   </td> <td>0   </td> <td>0   </td> <td>0   </td> <td>0   </td> <td>1   </td> <td>1   </td> <td>2   </td> <td>1   </td> <td>1   </td> <td>1   </td> <td>2   </td> <td>1   </td> <td>1   </td> <td>1   </td> <td>8   </td> <td>9   </td> <td>1   </td> <td>1   </td> <td>1   </td> <td>1   </td> <td>1   </td> <td>1   </td> <td>3   </td> <td>1   </td> <td>2   </td> <td>2   </td> <td>2   </td> <td>2   </td> <td>2   </td> <td>2   </td> <td>2   </td> <td>9   </td> <td>2   </td> <td>2   </td> <td>2   </td> <td>2   </td> <td>2   </td> <td>2   </td> <td>2   </td> <td>2   </td> <td>2   </td> <td>2   </td> <td>2   </td> <td>2   </td> <td>3   </td> <td>3   </td> <td>3   </td> <td>5   </td> <td>3   </td> <td>3   </td> <td>3   </td> <td>2   </td> <td>3   </td> <td>3   </td> <td>3   </td> <td>9   </td> <td>3   </td> <td>3   </td> <td>3   </td> <td>3   </td> <td>3   </td> <td>3   </td> <td>3   </td> <td>3   </td> <td>4   </td> <td>4   </td> <td>4   </td> <td>4   </td> <td>4   </td> <td>4   </td> <td>4   </td> <td>4   </td> <td>4   </td> <td>4   </td> <td>4   </td> <td>4   </td> <td>4   </td> <td>4   </td> <td>4   </td> <td>4   </td> <td>4   </td> <td>4   </td> <td>4   </td> <td>4   </td> <td>5   </td> <td>5   </td> <td>5   </td> <td>5   </td> <td>9   </td> <td>3   </td> <td>5   </td> <td>5   </td> <td>5   </td> <td>5   </td> <td>5   </td> <td>5   </td> <td>5   </td> <td>5   </td> <td>5   </td> <td>5   </td> <td>5   </td> <td>5   </td> <td>5   </td> <td>5   </td> <td>6   </td> <td>6   </td> <td>6   </td> <td>6   </td> <td>6   </td> <td>6   </td> <td>6   </td> <td>6   </td> <td>6   </td> <td>6   </td> <td>6   </td> <td>6   </td> <td>6   </td> <td>6   </td> <td>6   </td> <td>6   </td> <td>6   </td> <td>6   </td> <td>6   </td> <td>6   </td> <td>7   </td> <td>7   </td> <td>7   </td> <td>7   </td> <td>7   </td> <td>7   </td> <td>7   </td> <td>4   </td> <td>3   </td> <td>7   </td> <td>2   </td> <td>7   </td> <td>7   </td> <td>7   </td> <td>7   </td> <td>7   </td> <td>7   </td> <td>7   </td> <td>7   </td> <td>7   </td> <td>8   </td> <td>8   </td> <td>8   </td> <td>8   </td> <td>8   </td> <td>9   </td> <td>3   </td> <td>8   </td> <td>3   </td> <td>8   </td> <td>8   </td> <td>8   </td> <td>8   </td> <td>8   </td> <td>8   </td> <td>8   </td> <td>8   </td> <td>3   </td> <td>3   </td> <td>3   </td> <td>9   </td> <td>9   </td> <td>9   </td> <td>9   </td> <td>3   </td> <td>3   </td> <td>3   </td> <td>9   </td> <td>9   </td> <td>9   </td> <td>9   </td> <td>9   </td> <td>9   </td> <td>9   </td> <td>9   </td> <td>1   </td> <td>5   </td> <td>9   </td> <td>9   </td> <td>9   </td>\n",
       "        </tr>\n",
       "    </tbody>\n",
       "        <tr>\n",
       "            <td>0   </td> <td>0   </td> <td>0   </td> <td>0   </td> <td>0   </td> <td>0   </td> <td>0   </td> <td>0   </td> <td>0   </td> <td>0   </td> <td>0   </td> <td>0   </td> <td>0   </td> <td>0   </td> <td>0   </td> <td>0   </td> <td>0   </td> <td>0   </td> <td>0   </td> <td>0   </td> <td>1   </td> <td>1   </td> <td>5   </td> <td>8   </td> <td>1   </td> <td>1   </td> <td>2   </td> <td>1   </td> <td>1   </td> <td>1   </td> <td>1   </td> <td>1   </td> <td>1   </td> <td>1   </td> <td>1   </td> <td>1   </td> <td>1   </td> <td>1   </td> <td>3   </td> <td>1   </td> <td>2   </td> <td>2   </td> <td>8   </td> <td>2   </td> <td>2   </td> <td>2   </td> <td>2   </td> <td>3   </td> <td>2   </td> <td>2   </td> <td>2   </td> <td>2   </td> <td>2   </td> <td>2   </td> <td>2   </td> <td>2   </td> <td>2   </td> <td>2   </td> <td>2   </td> <td>2   </td> <td>3   </td> <td>3   </td> <td>3   </td> <td>3   </td> <td>3   </td> <td>8   </td> <td>5   </td> <td>3   </td> <td>3   </td> <td>3   </td> <td>3   </td> <td>3   </td> <td>3   </td> <td>3   </td> <td>3   </td> <td>3   </td> <td>3   </td> <td>3   </td> <td>3   </td> <td>9   </td> <td>4   </td> <td>4   </td> <td>4   </td> <td>4   </td> <td>4   </td> <td>4   </td> <td>4   </td> <td>4   </td> <td>4   </td> <td>4   </td> <td>4   </td> <td>9   </td> <td>4   </td> <td>4   </td> <td>1   </td> <td>4   </td> <td>4   </td> <td>4   </td> <td>4   </td> <td>4   </td> <td>4   </td> <td>5   </td> <td>9   </td> <td>5   </td> <td>9   </td> <td>5   </td> <td>5   </td> <td>5   </td> <td>5   </td> <td>5   </td> <td>5   </td> <td>5   </td> <td>9   </td> <td>5   </td> <td>5   </td> <td>6   </td> <td>3   </td> <td>9   </td> <td>8   </td> <td>8   </td> <td>6   </td> <td>6   </td> <td>6   </td> <td>6   </td> <td>6   </td> <td>6   </td> <td>6   </td> <td>6   </td> <td>6   </td> <td>6   </td> <td>6   </td> <td>6   </td> <td>6   </td> <td>6   </td> <td>6   </td> <td>6   </td> <td>6   </td> <td>6   </td> <td>6   </td> <td>6   </td> <td>7   </td> <td>1   </td> <td>7   </td> <td>7   </td> <td>7   </td> <td>7   </td> <td>7   </td> <td>7   </td> <td>2   </td> <td>7   </td> <td>7   </td> <td>7   </td> <td>7   </td> <td>7   </td> <td>7   </td> <td>7   </td> <td>7   </td> <td>7   </td> <td>7   </td> <td>7   </td> <td>8   </td> <td>8   </td> <td>8   </td> <td>8   </td> <td>8   </td> <td>8   </td> <td>8   </td> <td>8   </td> <td>8   </td> <td>8   </td> <td>8   </td> <td>8   </td> <td>8   </td> <td>8   </td> <td>8   </td> <td>1   </td> <td>8   </td> <td>8   </td> <td>8   </td> <td>8   </td> <td>9   </td> <td>3   </td> <td>9   </td> <td>9   </td> <td>9   </td> <td>5   </td> <td>9   </td> <td>9   </td> <td>9   </td> <td>9   </td> <td>5   </td> <td>9   </td> <td>9   </td> <td>9   </td> <td>9   </td> <td>9   </td> <td>9   </td> <td>9   </td> <td>9   </td> <td>5   </td>\n",
       "        </tr>\n",
       "    </tbody>\n",
       "        <tr>\n",
       "            <td>0   </td> <td>0   </td> <td>0   </td> <td>0   </td> <td>0   </td> <td>0   </td> <td>0   </td> <td>0   </td> <td>0   </td> <td>0   </td> <td>0   </td> <td>0   </td> <td>0   </td> <td>0   </td> <td>0   </td> <td>0   </td> <td>0   </td> <td>0   </td> <td>0   </td> <td>0   </td> <td>1   </td> <td>9   </td> <td>2   </td> <td>8   </td> <td>8   </td> <td>1   </td> <td>3   </td> <td>1   </td> <td>1   </td> <td>1   </td> <td>1   </td> <td>9   </td> <td>9   </td> <td>1   </td> <td>1   </td> <td>9   </td> <td>8   </td> <td>1   </td> <td>9   </td> <td>1   </td> <td>2   </td> <td>2   </td> <td>2   </td> <td>2   </td> <td>2   </td> <td>2   </td> <td>2   </td> <td>9   </td> <td>3   </td> <td>2   </td> <td>2   </td> <td>2   </td> <td>2   </td> <td>2   </td> <td>8   </td> <td>2   </td> <td>2   </td> <td>2   </td> <td>2   </td> <td>2   </td> <td>7   </td> <td>3   </td> <td>3   </td> <td>8   </td> <td>3   </td> <td>8   </td> <td>3   </td> <td>3   </td> <td>3   </td> <td>1   </td> <td>3   </td> <td>3   </td> <td>3   </td> <td>3   </td> <td>3   </td> <td>3   </td> <td>3   </td> <td>3   </td> <td>3   </td> <td>3   </td> <td>4   </td> <td>4   </td> <td>4   </td> <td>4   </td> <td>4   </td> <td>1   </td> <td>4   </td> <td>4   </td> <td>4   </td> <td>4   </td> <td>4   </td> <td>9   </td> <td>1   </td> <td>7   </td> <td>4   </td> <td>4   </td> <td>4   </td> <td>4   </td> <td>4   </td> <td>4   </td> <td>5   </td> <td>5   </td> <td>9   </td> <td>5   </td> <td>8   </td> <td>5   </td> <td>5   </td> <td>5   </td> <td>5   </td> <td>5   </td> <td>4   </td> <td>5   </td> <td>5   </td> <td>5   </td> <td>5   </td> <td>5   </td> <td>5   </td> <td>9   </td> <td>8   </td> <td>5   </td> <td>6   </td> <td>6   </td> <td>6   </td> <td>6   </td> <td>6   </td> <td>6   </td> <td>6   </td> <td>6   </td> <td>6   </td> <td>6   </td> <td>6   </td> <td>6   </td> <td>6   </td> <td>6   </td> <td>6   </td> <td>6   </td> <td>6   </td> <td>6   </td> <td>6   </td> <td>6   </td> <td>7   </td> <td>7   </td> <td>7   </td> <td>7   </td> <td>7   </td> <td>7   </td> <td>7   </td> <td>7   </td> <td>2   </td> <td>7   </td> <td>7   </td> <td>7   </td> <td>7   </td> <td>7   </td> <td>7   </td> <td>7   </td> <td>7   </td> <td>7   </td> <td>7   </td> <td>7   </td> <td>9   </td> <td>7   </td> <td>8   </td> <td>8   </td> <td>1   </td> <td>9   </td> <td>8   </td> <td>8   </td> <td>8   </td> <td>8   </td> <td>8   </td> <td>9   </td> <td>8   </td> <td>3   </td> <td>8   </td> <td>8   </td> <td>5   </td> <td>8   </td> <td>0   </td> <td>8   </td> <td>3   </td> <td>9   </td> <td>9   </td> <td>4   </td> <td>3   </td> <td>9   </td> <td>9   </td> <td>4   </td> <td>9   </td> <td>4   </td> <td>9   </td> <td>9   </td> <td>9   </td> <td>8   </td> <td>9   </td> <td>3   </td> <td>9   </td> <td>9   </td> <td>9   </td> <td>9   </td>\n",
       "        </tr>\n",
       "    </tbody>\n",
       "        <tr>\n",
       "            <td>0   </td> <td>0   </td> <td>0   </td> <td>0   </td> <td>0   </td> <td>0   </td> <td>0   </td> <td>0   </td> <td>0   </td> <td>0   </td> <td>0   </td> <td>0   </td> <td>0   </td> <td>0   </td> <td>0   </td> <td>0   </td> <td>0   </td> <td>0   </td> <td>0   </td> <td>0   </td> <td>3   </td> <td>8   </td> <td>1   </td> <td>1   </td> <td>8   </td> <td>1   </td> <td>1   </td> <td>1   </td> <td>8   </td> <td>1   </td> <td>8   </td> <td>1   </td> <td>1   </td> <td>8   </td> <td>1   </td> <td>1   </td> <td>1   </td> <td>2   </td> <td>9   </td> <td>1   </td> <td>2   </td> <td>2   </td> <td>2   </td> <td>2   </td> <td>2   </td> <td>2   </td> <td>2   </td> <td>9   </td> <td>3   </td> <td>2   </td> <td>8   </td> <td>2   </td> <td>2   </td> <td>2   </td> <td>2   </td> <td>2   </td> <td>2   </td> <td>1   </td> <td>2   </td> <td>2   </td> <td>3   </td> <td>3   </td> <td>3   </td> <td>5   </td> <td>3   </td> <td>3   </td> <td>3   </td> <td>3   </td> <td>3   </td> <td>3   </td> <td>3   </td> <td>3   </td> <td>5   </td> <td>3   </td> <td>3   </td> <td>3   </td> <td>3   </td> <td>3   </td> <td>3   </td> <td>3   </td> <td>1   </td> <td>4   </td> <td>4   </td> <td>6   </td> <td>4   </td> <td>4   </td> <td>4   </td> <td>4   </td> <td>4   </td> <td>4   </td> <td>4   </td> <td>4   </td> <td>4   </td> <td>7   </td> <td>4   </td> <td>4   </td> <td>4   </td> <td>4   </td> <td>4   </td> <td>6   </td> <td>5   </td> <td>5   </td> <td>5   </td> <td>5   </td> <td>3   </td> <td>5   </td> <td>8   </td> <td>3   </td> <td>5   </td> <td>5   </td> <td>5   </td> <td>9   </td> <td>5   </td> <td>5   </td> <td>5   </td> <td>5   </td> <td>3   </td> <td>3   </td> <td>8   </td> <td>8   </td> <td>6   </td> <td>6   </td> <td>6   </td> <td>6   </td> <td>6   </td> <td>6   </td> <td>6   </td> <td>6   </td> <td>6   </td> <td>6   </td> <td>6   </td> <td>6   </td> <td>6   </td> <td>6   </td> <td>6   </td> <td>6   </td> <td>6   </td> <td>6   </td> <td>6   </td> <td>6   </td> <td>7   </td> <td>7   </td> <td>7   </td> <td>7   </td> <td>7   </td> <td>7   </td> <td>7   </td> <td>7   </td> <td>7   </td> <td>9   </td> <td>7   </td> <td>7   </td> <td>7   </td> <td>7   </td> <td>7   </td> <td>7   </td> <td>7   </td> <td>7   </td> <td>7   </td> <td>7   </td> <td>8   </td> <td>8   </td> <td>3   </td> <td>2   </td> <td>8   </td> <td>8   </td> <td>9   </td> <td>8   </td> <td>8   </td> <td>8   </td> <td>8   </td> <td>8   </td> <td>3   </td> <td>8   </td> <td>1   </td> <td>8   </td> <td>8   </td> <td>3   </td> <td>3   </td> <td>2   </td> <td>3   </td> <td>8   </td> <td>9   </td> <td>9   </td> <td>1   </td> <td>9   </td> <td>9   </td> <td>1   </td> <td>3   </td> <td>1   </td> <td>3   </td> <td>8   </td> <td>1   </td> <td>9   </td> <td>5   </td> <td>3   </td> <td>9   </td> <td>5   </td> <td>3   </td> <td>3   </td>\n",
       "        </tr>\n",
       "    </tbody>\n",
       "        <tr>\n",
       "            <td>0   </td> <td>0   </td> <td>0   </td> <td>0   </td> <td>0   </td> <td>0   </td> <td>0   </td> <td>0   </td> <td>0   </td> <td>0   </td> <td>0   </td> <td>0   </td> <td>0   </td> <td>0   </td> <td>0   </td> <td>0   </td> <td>0   </td> <td>0   </td> <td>0   </td> <td>0   </td> <td>1   </td> <td>4   </td> <td>2   </td> <td>8   </td> <td>1   </td> <td>8   </td> <td>3   </td> <td>4   </td> <td>1   </td> <td>8   </td> <td>1   </td> <td>9   </td> <td>1   </td> <td>1   </td> <td>8   </td> <td>4   </td> <td>1   </td> <td>5   </td> <td>1   </td> <td>5   </td> <td>2   </td> <td>2   </td> <td>8   </td> <td>2   </td> <td>2   </td> <td>2   </td> <td>2   </td> <td>2   </td> <td>9   </td> <td>2   </td> <td>2   </td> <td>2   </td> <td>2   </td> <td>3   </td> <td>2   </td> <td>2   </td> <td>2   </td> <td>2   </td> <td>2   </td> <td>2   </td> <td>3   </td> <td>9   </td> <td>3   </td> <td>3   </td> <td>3   </td> <td>3   </td> <td>3   </td> <td>3   </td> <td>7   </td> <td>3   </td> <td>3   </td> <td>3   </td> <td>3   </td> <td>3   </td> <td>9   </td> <td>3   </td> <td>3   </td> <td>3   </td> <td>3   </td> <td>9   </td> <td>1   </td> <td>4   </td> <td>4   </td> <td>6   </td> <td>4   </td> <td>1   </td> <td>4   </td> <td>4   </td> <td>4   </td> <td>4   </td> <td>4   </td> <td>4   </td> <td>4   </td> <td>4   </td> <td>4   </td> <td>4   </td> <td>4   </td> <td>6   </td> <td>4   </td> <td>4   </td> <td>4   </td> <td>8   </td> <td>5   </td> <td>9   </td> <td>9   </td> <td>5   </td> <td>5   </td> <td>3   </td> <td>5   </td> <td>5   </td> <td>6   </td> <td>9   </td> <td>5   </td> <td>5   </td> <td>5   </td> <td>5   </td> <td>5   </td> <td>5   </td> <td>0   </td> <td>1   </td> <td>6   </td> <td>6   </td> <td>6   </td> <td>6   </td> <td>1   </td> <td>6   </td> <td>6   </td> <td>6   </td> <td>6   </td> <td>6   </td> <td>6   </td> <td>6   </td> <td>5   </td> <td>4   </td> <td>6   </td> <td>6   </td> <td>6   </td> <td>6   </td> <td>6   </td> <td>6   </td> <td>2   </td> <td>7   </td> <td>7   </td> <td>7   </td> <td>7   </td> <td>7   </td> <td>1   </td> <td>7   </td> <td>8   </td> <td>7   </td> <td>7   </td> <td>7   </td> <td>7   </td> <td>7   </td> <td>7   </td> <td>7   </td> <td>7   </td> <td>7   </td> <td>7   </td> <td>3   </td> <td>3   </td> <td>8   </td> <td>3   </td> <td>8   </td> <td>8   </td> <td>9   </td> <td>3   </td> <td>8   </td> <td>8   </td> <td>8   </td> <td>2   </td> <td>9   </td> <td>3   </td> <td>3   </td> <td>5   </td> <td>1   </td> <td>8   </td> <td>3   </td> <td>0   </td> <td>8   </td> <td>9   </td> <td>5   </td> <td>9   </td> <td>4   </td> <td>9   </td> <td>9   </td> <td>9   </td> <td>4   </td> <td>0   </td> <td>9   </td> <td>0   </td> <td>5   </td> <td>9   </td> <td>9   </td> <td>9   </td> <td>9   </td> <td>9   </td> <td>5   </td> <td>9   </td> <td>9   </td>\n",
       "        </tr>\n",
       "    </tbody>\n",
       "        <tr>\n",
       "            <td>0   </td> <td>0   </td> <td>0   </td> <td>0   </td> <td>0   </td> <td>0   </td> <td>0   </td> <td>0   </td> <td>0   </td> <td>0   </td> <td>0   </td> <td>0   </td> <td>0   </td> <td>0   </td> <td>0   </td> <td>0   </td> <td>0   </td> <td>0   </td> <td>0   </td> <td>0   </td> <td>8   </td> <td>1   </td> <td>3   </td> <td>1   </td> <td>1   </td> <td>8   </td> <td>3   </td> <td>1   </td> <td>1   </td> <td>8   </td> <td>8   </td> <td>9   </td> <td>1   </td> <td>1   </td> <td>8   </td> <td>1   </td> <td>1   </td> <td>1   </td> <td>3   </td> <td>1   </td> <td>2   </td> <td>2   </td> <td>8   </td> <td>2   </td> <td>2   </td> <td>2   </td> <td>2   </td> <td>2   </td> <td>3   </td> <td>2   </td> <td>3   </td> <td>2   </td> <td>2   </td> <td>9   </td> <td>8   </td> <td>2   </td> <td>2   </td> <td>2   </td> <td>2   </td> <td>2   </td> <td>7   </td> <td>9   </td> <td>3   </td> <td>8   </td> <td>3   </td> <td>3   </td> <td>8   </td> <td>9   </td> <td>3   </td> <td>3   </td> <td>3   </td> <td>9   </td> <td>3   </td> <td>3   </td> <td>9   </td> <td>3   </td> <td>3   </td> <td>3   </td> <td>3   </td> <td>9   </td> <td>4   </td> <td>4   </td> <td>4   </td> <td>4   </td> <td>4   </td> <td>4   </td> <td>4   </td> <td>4   </td> <td>6   </td> <td>8   </td> <td>4   </td> <td>9   </td> <td>4   </td> <td>4   </td> <td>4   </td> <td>4   </td> <td>4   </td> <td>1   </td> <td>4   </td> <td>6   </td> <td>5   </td> <td>5   </td> <td>9   </td> <td>5   </td> <td>3   </td> <td>8   </td> <td>8   </td> <td>5   </td> <td>5   </td> <td>5   </td> <td>5   </td> <td>9   </td> <td>5   </td> <td>5   </td> <td>5   </td> <td>8   </td> <td>5   </td> <td>9   </td> <td>5   </td> <td>1   </td> <td>6   </td> <td>6   </td> <td>6   </td> <td>6   </td> <td>1   </td> <td>6   </td> <td>6   </td> <td>6   </td> <td>6   </td> <td>6   </td> <td>6   </td> <td>6   </td> <td>6   </td> <td>6   </td> <td>6   </td> <td>6   </td> <td>6   </td> <td>6   </td> <td>6   </td> <td>6   </td> <td>7   </td> <td>7   </td> <td>7   </td> <td>7   </td> <td>7   </td> <td>7   </td> <td>7   </td> <td>8   </td> <td>7   </td> <td>7   </td> <td>7   </td> <td>7   </td> <td>7   </td> <td>7   </td> <td>3   </td> <td>7   </td> <td>7   </td> <td>7   </td> <td>7   </td> <td>7   </td> <td>8   </td> <td>8   </td> <td>3   </td> <td>8   </td> <td>8   </td> <td>8   </td> <td>8   </td> <td>1   </td> <td>8   </td> <td>6   </td> <td>8   </td> <td>9   </td> <td>1   </td> <td>8   </td> <td>3   </td> <td>1   </td> <td>5   </td> <td>8   </td> <td>5   </td> <td>8   </td> <td>0   </td> <td>3   </td> <td>5   </td> <td>9   </td> <td>9   </td> <td>3   </td> <td>0   </td> <td>9   </td> <td>3   </td> <td>9   </td> <td>4   </td> <td>3   </td> <td>9   </td> <td>3   </td> <td>8   </td> <td>3   </td> <td>3   </td> <td>9   </td> <td>5   </td> <td>9   </td>\n",
       "        </tr>\n",
       "    </tbody>\n",
       "        <tr>\n",
       "            <td>0   </td> <td>0   </td> <td>0   </td> <td>0   </td> <td>0   </td> <td>0   </td> <td>0   </td> <td>0   </td> <td>0   </td> <td>0   </td> <td>0   </td> <td>0   </td> <td>0   </td> <td>0   </td> <td>0   </td> <td>0   </td> <td>0   </td> <td>0   </td> <td>0   </td> <td>0   </td> <td>8   </td> <td>1   </td> <td>1   </td> <td>8   </td> <td>1   </td> <td>1   </td> <td>1   </td> <td>1   </td> <td>8   </td> <td>9   </td> <td>8   </td> <td>9   </td> <td>4   </td> <td>8   </td> <td>1   </td> <td>1   </td> <td>1   </td> <td>2   </td> <td>1   </td> <td>4   </td> <td>2   </td> <td>2   </td> <td>2   </td> <td>2   </td> <td>2   </td> <td>2   </td> <td>8   </td> <td>3   </td> <td>3   </td> <td>2   </td> <td>8   </td> <td>2   </td> <td>2   </td> <td>2   </td> <td>2   </td> <td>2   </td> <td>2   </td> <td>2   </td> <td>2   </td> <td>3   </td> <td>1   </td> <td>9   </td> <td>3   </td> <td>3   </td> <td>3   </td> <td>3   </td> <td>3   </td> <td>8   </td> <td>3   </td> <td>3   </td> <td>8   </td> <td>9   </td> <td>3   </td> <td>3   </td> <td>3   </td> <td>3   </td> <td>3   </td> <td>3   </td> <td>3   </td> <td>9   </td> <td>4   </td> <td>4   </td> <td>4   </td> <td>6   </td> <td>4   </td> <td>1   </td> <td>4   </td> <td>4   </td> <td>4   </td> <td>4   </td> <td>4   </td> <td>4   </td> <td>1   </td> <td>0   </td> <td>4   </td> <td>4   </td> <td>4   </td> <td>6   </td> <td>6   </td> <td>6   </td> <td>5   </td> <td>5   </td> <td>9   </td> <td>5   </td> <td>3   </td> <td>8   </td> <td>5   </td> <td>5   </td> <td>5   </td> <td>5   </td> <td>6   </td> <td>5   </td> <td>5   </td> <td>3   </td> <td>5   </td> <td>5   </td> <td>5   </td> <td>5   </td> <td>0   </td> <td>5   </td> <td>6   </td> <td>6   </td> <td>6   </td> <td>6   </td> <td>1   </td> <td>6   </td> <td>6   </td> <td>6   </td> <td>6   </td> <td>6   </td> <td>6   </td> <td>1   </td> <td>5   </td> <td>1   </td> <td>6   </td> <td>6   </td> <td>6   </td> <td>6   </td> <td>6   </td> <td>6   </td> <td>7   </td> <td>7   </td> <td>7   </td> <td>7   </td> <td>7   </td> <td>7   </td> <td>7   </td> <td>7   </td> <td>4   </td> <td>7   </td> <td>7   </td> <td>7   </td> <td>7   </td> <td>7   </td> <td>7   </td> <td>7   </td> <td>7   </td> <td>7   </td> <td>2   </td> <td>4   </td> <td>9   </td> <td>5   </td> <td>3   </td> <td>8   </td> <td>1   </td> <td>8   </td> <td>3   </td> <td>8   </td> <td>8   </td> <td>6   </td> <td>8   </td> <td>9   </td> <td>3   </td> <td>8   </td> <td>2   </td> <td>8   </td> <td>8   </td> <td>3   </td> <td>3   </td> <td>8   </td> <td>8   </td> <td>9   </td> <td>1   </td> <td>4   </td> <td>3   </td> <td>9   </td> <td>9   </td> <td>9   </td> <td>9   </td> <td>4   </td> <td>4   </td> <td>8   </td> <td>1   </td> <td>3   </td> <td>9   </td> <td>9   </td> <td>5   </td> <td>9   </td> <td>3   </td> <td>8   </td>\n",
       "        </tr>\n",
       "    </tbody>\n",
       "        <tr>\n",
       "            <td>0   </td> <td>0   </td> <td>0   </td> <td>0   </td> <td>0   </td> <td>0   </td> <td>0   </td> <td>0   </td> <td>0   </td> <td>0   </td> <td>0   </td> <td>0   </td> <td>0   </td> <td>0   </td> <td>0   </td> <td>0   </td> <td>0   </td> <td>0   </td> <td>0   </td> <td>0   </td> <td>1   </td> <td>1   </td> <td>1   </td> <td>1   </td> <td>8   </td> <td>1   </td> <td>1   </td> <td>1   </td> <td>8   </td> <td>7   </td> <td>8   </td> <td>9   </td> <td>8   </td> <td>8   </td> <td>1   </td> <td>1   </td> <td>8   </td> <td>1   </td> <td>3   </td> <td>3   </td> <td>8   </td> <td>3   </td> <td>3   </td> <td>2   </td> <td>2   </td> <td>2   </td> <td>2   </td> <td>5   </td> <td>3   </td> <td>2   </td> <td>8   </td> <td>2   </td> <td>9   </td> <td>3   </td> <td>2   </td> <td>2   </td> <td>2   </td> <td>2   </td> <td>2   </td> <td>2   </td> <td>8   </td> <td>9   </td> <td>3   </td> <td>3   </td> <td>9   </td> <td>3   </td> <td>9   </td> <td>2   </td> <td>9   </td> <td>9   </td> <td>8   </td> <td>5   </td> <td>5   </td> <td>3   </td> <td>3   </td> <td>3   </td> <td>3   </td> <td>3   </td> <td>3   </td> <td>9   </td> <td>1   </td> <td>4   </td> <td>4   </td> <td>1   </td> <td>4   </td> <td>8   </td> <td>4   </td> <td>4   </td> <td>4   </td> <td>0   </td> <td>4   </td> <td>4   </td> <td>1   </td> <td>1   </td> <td>4   </td> <td>6   </td> <td>4   </td> <td>6   </td> <td>4   </td> <td>6   </td> <td>5   </td> <td>4   </td> <td>9   </td> <td>5   </td> <td>9   </td> <td>5   </td> <td>8   </td> <td>5   </td> <td>5   </td> <td>5   </td> <td>3   </td> <td>3   </td> <td>5   </td> <td>5   </td> <td>5   </td> <td>5   </td> <td>5   </td> <td>9   </td> <td>0   </td> <td>5   </td> <td>6   </td> <td>6   </td> <td>6   </td> <td>5   </td> <td>6   </td> <td>6   </td> <td>6   </td> <td>6   </td> <td>6   </td> <td>6   </td> <td>6   </td> <td>4   </td> <td>8   </td> <td>1   </td> <td>6   </td> <td>6   </td> <td>6   </td> <td>8   </td> <td>6   </td> <td>6   </td> <td>7   </td> <td>7   </td> <td>7   </td> <td>7   </td> <td>7   </td> <td>7   </td> <td>7   </td> <td>8   </td> <td>5   </td> <td>7   </td> <td>7   </td> <td>7   </td> <td>9   </td> <td>7   </td> <td>4   </td> <td>7   </td> <td>7   </td> <td>7   </td> <td>7   </td> <td>8   </td> <td>8   </td> <td>1   </td> <td>5   </td> <td>8   </td> <td>8   </td> <td>3   </td> <td>9   </td> <td>8   </td> <td>8   </td> <td>8   </td> <td>9   </td> <td>5   </td> <td>3   </td> <td>1   </td> <td>8   </td> <td>1   </td> <td>8   </td> <td>2   </td> <td>5   </td> <td>8   </td> <td>0   </td> <td>9   </td> <td>9   </td> <td>7   </td> <td>3   </td> <td>3   </td> <td>9   </td> <td>5   </td> <td>3   </td> <td>1   </td> <td>3   </td> <td>9   </td> <td>9   </td> <td>9   </td> <td>3   </td> <td>9   </td> <td>1   </td> <td>9   </td> <td>3   </td> <td>5   </td>\n",
       "        </tr>\n",
       "    </tbody>\n",
       "</table>"
      ],
      "text/plain": [
       "0    | 1    | 2    | 3    | 4    | 5    | 6    | 7    | 8    | 9    | 10   | 11   | 12   | 13   | 14   | 15   | 16   | 17   | 18   | 19   | 20   | 21   | 22   | 23   | 24   | 25   | 26   | 27   | 28   | 29   | 30   | 31   | 32   | 33   | 34   | 35   | 36   | 37   | 38   | 39   | 40   | 41   | 42   | 43   | 44   | 45   | 46   | 47   | 48   | 49   | 50   | 51   | 52   | 53   | 54   | 55   | 56   | 57   | 58   | 59   | 60   | 61   | 62   | 63   | 64   | 65   | 66   | 67   | 68   | 69   | 70   | 71   | 72   | 73   | 74   | 75   | 76   | 77   | 78   | 79   | 80   | 81   | 82   | 83   | 84   | 85   | 86   | 87   | 88   | 89   | 90   | 91   | 92   | 93   | 94   | 95   | 96   | 97   | 98   | 99   | 100  | 101  | 102  | 103  | 104  | 105  | 106  | 107  | 108  | 109  | 110  | 111  | 112  | 113  | 114  | 115  | 116  | 117  | 118  | 119  | 120  | 121  | 122  | 123  | 124  | 125  | 126  | 127  | 128  | 129  | 130  | 131  | 132  | 133  | 134  | 135  | 136  | 137  | 138  | 139  | 140  | 141  | 142  | 143  | 144  | 145  | 146  | 147  | 148  | 149  | 150  | 151  | 152  | 153  | 154  | 155  | 156  | 157  | 158  | 159  | 160  | 161  | 162  | 163  | 164  | 165  | 166  | 167  | 168  | 169  | 170  | 171  | 172  | 173  | 174  | 175  | 176  | 177  | 178  | 179  | 180  | 181  | 182  | 183  | 184  | 185  | 186  | 187  | 188  | 189  | 190  | 191  | 192  | 193  | 194  | 195  | 196  | 197  | 198  | 199\n",
       "0    | 0    | 0    | 0    | 0    | 0    | 0    | 0    | 0    | 0    | 0    | 0    | 0    | 0    | 0    | 0    | 0    | 0    | 0    | 0    | 1    | 1    | 1    | 1    | 1    | 1    | 1    | 1    | 1    | 1    | 1    | 1    | 1    | 1    | 8    | 1    | 1    | 5    | 1    | 1    | 2    | 2    | 2    | 2    | 2    | 2    | 2    | 9    | 2    | 2    | 2    | 2    | 2    | 2    | 2    | 2    | 2    | 1    | 2    | 2    | 3    | 3    | 3    | 3    | 3    | 3    | 3    | 3    | 3    | 3    | 3    | 9    | 3    | 3    | 3    | 3    | 3    | 3    | 3    | 3    | 4    | 4    | 4    | 4    | 4    | 4    | 4    | 4    | 4    | 4    | 4    | 4    | 4    | 4    | 4    | 4    | 4    | 4    | 4    | 4    | 5    | 5    | 5    | 5    | 5    | 5    | 5    | 5    | 5    | 5    | 5    | 5    | 5    | 5    | 5    | 5    | 5    | 9    | 5    | 8    | 6    | 6    | 6    | 6    | 6    | 6    | 6    | 6    | 6    | 6    | 6    | 6    | 6    | 6    | 6    | 6    | 6    | 6    | 6    | 6    | 7    | 7    | 7    | 7    | 7    | 7    | 7    | 7    | 7    | 7    | 7    | 7    | 7    | 7    | 7    | 7    | 7    | 7    | 7    | 7    | 8    | 8    | 8    | 8    | 1    | 8    | 8    | 8    | 8    | 8    | 8    | 9    | 8    | 8    | 3    | 8    | 8    | 8    | 5    | 8    | 9    | 3    | 9    | 9    | 9    | 9    | 9    | 9    | 9    | 1    | 8    | 9    | 9    | 9    | 9    | 9    | 9    | 9    | 9    | 9\n",
       "0    | 0    | 0    | 0    | 0    | 0    | 0    | 0    | 0    | 0    | 0    | 0    | 0    | 0    | 0    | 0    | 0    | 0    | 0    | 0    | 1    | 1    | 1    | 1    | 1    | 1    | 5    | 1    | 1    | 1    | 1    | 1    | 1    | 1    | 1    | 1    | 1    | 3    | 5    | 1    | 2    | 2    | 2    | 2    | 2    | 2    | 2    | 3    | 2    | 2    | 9    | 2    | 2    | 3    | 2    | 2    | 2    | 2    | 2    | 2    | 3    | 3    | 3    | 5    | 3    | 3    | 9    | 3    | 3    | 3    | 3    | 3    | 3    | 3    | 3    | 3    | 3    | 3    | 3    | 3    | 1    | 4    | 4    | 4    | 4    | 4    | 4    | 4    | 4    | 4    | 4    | 4    | 4    | 4    | 4    | 4    | 4    | 4    | 4    | 4    | 5    | 5    | 5    | 5    | 9    | 5    | 3    | 5    | 5    | 5    | 6    | 5    | 5    | 5    | 5    | 5    | 3    | 9    | 5    | 8    | 6    | 6    | 6    | 6    | 6    | 6    | 6    | 6    | 6    | 6    | 6    | 6    | 6    | 6    | 6    | 6    | 6    | 6    | 6    | 6    | 7    | 7    | 7    | 7    | 7    | 7    | 7    | 7    | 7    | 7    | 2    | 7    | 7    | 7    | 7    | 7    | 7    | 7    | 7    | 7    | 8    | 8    | 8    | 8    | 1    | 6    | 8    | 8    | 8    | 8    | 8    | 8    | 8    | 8    | 8    | 8    | 8    | 3    | 5    | 8    | 9    | 3    | 9    | 9    | 9    | 9    | 9    | 9    | 9    | 9    | 9    | 9    | 5    | 9    | 9    | 9    | 9    | 9    | 9    | 9\n",
       "0    | 0    | 0    | 0    | 0    | 0    | 0    | 0    | 0    | 0    | 0    | 0    | 0    | 0    | 0    | 0    | 0    | 0    | 0    | 0    | 1    | 1    | 2    | 1    | 1    | 1    | 2    | 1    | 1    | 1    | 8    | 9    | 1    | 1    | 1    | 1    | 1    | 1    | 3    | 1    | 2    | 2    | 2    | 2    | 2    | 2    | 2    | 9    | 2    | 2    | 2    | 2    | 2    | 2    | 2    | 2    | 2    | 2    | 2    | 2    | 3    | 3    | 3    | 5    | 3    | 3    | 3    | 2    | 3    | 3    | 3    | 9    | 3    | 3    | 3    | 3    | 3    | 3    | 3    | 3    | 4    | 4    | 4    | 4    | 4    | 4    | 4    | 4    | 4    | 4    | 4    | 4    | 4    | 4    | 4    | 4    | 4    | 4    | 4    | 4    | 5    | 5    | 5    | 5    | 9    | 3    | 5    | 5    | 5    | 5    | 5    | 5    | 5    | 5    | 5    | 5    | 5    | 5    | 5    | 5    | 6    | 6    | 6    | 6    | 6    | 6    | 6    | 6    | 6    | 6    | 6    | 6    | 6    | 6    | 6    | 6    | 6    | 6    | 6    | 6    | 7    | 7    | 7    | 7    | 7    | 7    | 7    | 4    | 3    | 7    | 2    | 7    | 7    | 7    | 7    | 7    | 7    | 7    | 7    | 7    | 8    | 8    | 8    | 8    | 8    | 9    | 3    | 8    | 3    | 8    | 8    | 8    | 8    | 8    | 8    | 8    | 8    | 3    | 3    | 3    | 9    | 9    | 9    | 9    | 3    | 3    | 3    | 9    | 9    | 9    | 9    | 9    | 9    | 9    | 9    | 1    | 5    | 9    | 9    | 9\n",
       "0    | 0    | 0    | 0    | 0    | 0    | 0    | 0    | 0    | 0    | 0    | 0    | 0    | 0    | 0    | 0    | 0    | 0    | 0    | 0    | 1    | 1    | 5    | 8    | 1    | 1    | 2    | 1    | 1    | 1    | 1    | 1    | 1    | 1    | 1    | 1    | 1    | 1    | 3    | 1    | 2    | 2    | 8    | 2    | 2    | 2    | 2    | 3    | 2    | 2    | 2    | 2    | 2    | 2    | 2    | 2    | 2    | 2    | 2    | 2    | 3    | 3    | 3    | 3    | 3    | 8    | 5    | 3    | 3    | 3    | 3    | 3    | 3    | 3    | 3    | 3    | 3    | 3    | 3    | 9    | 4    | 4    | 4    | 4    | 4    | 4    | 4    | 4    | 4    | 4    | 4    | 9    | 4    | 4    | 1    | 4    | 4    | 4    | 4    | 4    | 4    | 5    | 9    | 5    | 9    | 5    | 5    | 5    | 5    | 5    | 5    | 5    | 9    | 5    | 5    | 6    | 3    | 9    | 8    | 8    | 6    | 6    | 6    | 6    | 6    | 6    | 6    | 6    | 6    | 6    | 6    | 6    | 6    | 6    | 6    | 6    | 6    | 6    | 6    | 6    | 7    | 1    | 7    | 7    | 7    | 7    | 7    | 7    | 2    | 7    | 7    | 7    | 7    | 7    | 7    | 7    | 7    | 7    | 7    | 7    | 8    | 8    | 8    | 8    | 8    | 8    | 8    | 8    | 8    | 8    | 8    | 8    | 8    | 8    | 8    | 1    | 8    | 8    | 8    | 8    | 9    | 3    | 9    | 9    | 9    | 5    | 9    | 9    | 9    | 9    | 5    | 9    | 9    | 9    | 9    | 9    | 9    | 9    | 9    | 5\n",
       "0    | 0    | 0    | 0    | 0    | 0    | 0    | 0    | 0    | 0    | 0    | 0    | 0    | 0    | 0    | 0    | 0    | 0    | 0    | 0    | 1    | 9    | 2    | 8    | 8    | 1    | 3    | 1    | 1    | 1    | 1    | 9    | 9    | 1    | 1    | 9    | 8    | 1    | 9    | 1    | 2    | 2    | 2    | 2    | 2    | 2    | 2    | 9    | 3    | 2    | 2    | 2    | 2    | 2    | 8    | 2    | 2    | 2    | 2    | 2    | 7    | 3    | 3    | 8    | 3    | 8    | 3    | 3    | 3    | 1    | 3    | 3    | 3    | 3    | 3    | 3    | 3    | 3    | 3    | 3    | 4    | 4    | 4    | 4    | 4    | 1    | 4    | 4    | 4    | 4    | 4    | 9    | 1    | 7    | 4    | 4    | 4    | 4    | 4    | 4    | 5    | 5    | 9    | 5    | 8    | 5    | 5    | 5    | 5    | 5    | 4    | 5    | 5    | 5    | 5    | 5    | 5    | 9    | 8    | 5    | 6    | 6    | 6    | 6    | 6    | 6    | 6    | 6    | 6    | 6    | 6    | 6    | 6    | 6    | 6    | 6    | 6    | 6    | 6    | 6    | 7    | 7    | 7    | 7    | 7    | 7    | 7    | 7    | 2    | 7    | 7    | 7    | 7    | 7    | 7    | 7    | 7    | 7    | 7    | 7    | 9    | 7    | 8    | 8    | 1    | 9    | 8    | 8    | 8    | 8    | 8    | 9    | 8    | 3    | 8    | 8    | 5    | 8    | 0    | 8    | 3    | 9    | 9    | 4    | 3    | 9    | 9    | 4    | 9    | 4    | 9    | 9    | 9    | 8    | 9    | 3    | 9    | 9    | 9    | 9\n",
       "0    | 0    | 0    | 0    | 0    | 0    | 0    | 0    | 0    | 0    | 0    | 0    | 0    | 0    | 0    | 0    | 0    | 0    | 0    | 0    | 3    | 8    | 1    | 1    | 8    | 1    | 1    | 1    | 8    | 1    | 8    | 1    | 1    | 8    | 1    | 1    | 1    | 2    | 9    | 1    | 2    | 2    | 2    | 2    | 2    | 2    | 2    | 9    | 3    | 2    | 8    | 2    | 2    | 2    | 2    | 2    | 2    | 1    | 2    | 2    | 3    | 3    | 3    | 5    | 3    | 3    | 3    | 3    | 3    | 3    | 3    | 3    | 5    | 3    | 3    | 3    | 3    | 3    | 3    | 3    | 1    | 4    | 4    | 6    | 4    | 4    | 4    | 4    | 4    | 4    | 4    | 4    | 4    | 7    | 4    | 4    | 4    | 4    | 4    | 6    | 5    | 5    | 5    | 5    | 3    | 5    | 8    | 3    | 5    | 5    | 5    | 9    | 5    | 5    | 5    | 5    | 3    | 3    | 8    | 8    | 6    | 6    | 6    | 6    | 6    | 6    | 6    | 6    | 6    | 6    | 6    | 6    | 6    | 6    | 6    | 6    | 6    | 6    | 6    | 6    | 7    | 7    | 7    | 7    | 7    | 7    | 7    | 7    | 7    | 9    | 7    | 7    | 7    | 7    | 7    | 7    | 7    | 7    | 7    | 7    | 8    | 8    | 3    | 2    | 8    | 8    | 9    | 8    | 8    | 8    | 8    | 8    | 3    | 8    | 1    | 8    | 8    | 3    | 3    | 2    | 3    | 8    | 9    | 9    | 1    | 9    | 9    | 1    | 3    | 1    | 3    | 8    | 1    | 9    | 5    | 3    | 9    | 5    | 3    | 3\n",
       "0    | 0    | 0    | 0    | 0    | 0    | 0    | 0    | 0    | 0    | 0    | 0    | 0    | 0    | 0    | 0    | 0    | 0    | 0    | 0    | 1    | 4    | 2    | 8    | 1    | 8    | 3    | 4    | 1    | 8    | 1    | 9    | 1    | 1    | 8    | 4    | 1    | 5    | 1    | 5    | 2    | 2    | 8    | 2    | 2    | 2    | 2    | 2    | 9    | 2    | 2    | 2    | 2    | 3    | 2    | 2    | 2    | 2    | 2    | 2    | 3    | 9    | 3    | 3    | 3    | 3    | 3    | 3    | 7    | 3    | 3    | 3    | 3    | 3    | 9    | 3    | 3    | 3    | 3    | 9    | 1    | 4    | 4    | 6    | 4    | 1    | 4    | 4    | 4    | 4    | 4    | 4    | 4    | 4    | 4    | 4    | 4    | 6    | 4    | 4    | 4    | 8    | 5    | 9    | 9    | 5    | 5    | 3    | 5    | 5    | 6    | 9    | 5    | 5    | 5    | 5    | 5    | 5    | 0    | 1    | 6    | 6    | 6    | 6    | 1    | 6    | 6    | 6    | 6    | 6    | 6    | 6    | 5    | 4    | 6    | 6    | 6    | 6    | 6    | 6    | 2    | 7    | 7    | 7    | 7    | 7    | 1    | 7    | 8    | 7    | 7    | 7    | 7    | 7    | 7    | 7    | 7    | 7    | 7    | 3    | 3    | 8    | 3    | 8    | 8    | 9    | 3    | 8    | 8    | 8    | 2    | 9    | 3    | 3    | 5    | 1    | 8    | 3    | 0    | 8    | 9    | 5    | 9    | 4    | 9    | 9    | 9    | 4    | 0    | 9    | 0    | 5    | 9    | 9    | 9    | 9    | 9    | 5    | 9    | 9\n",
       "0    | 0    | 0    | 0    | 0    | 0    | 0    | 0    | 0    | 0    | 0    | 0    | 0    | 0    | 0    | 0    | 0    | 0    | 0    | 0    | 8    | 1    | 3    | 1    | 1    | 8    | 3    | 1    | 1    | 8    | 8    | 9    | 1    | 1    | 8    | 1    | 1    | 1    | 3    | 1    | 2    | 2    | 8    | 2    | 2    | 2    | 2    | 2    | 3    | 2    | 3    | 2    | 2    | 9    | 8    | 2    | 2    | 2    | 2    | 2    | 7    | 9    | 3    | 8    | 3    | 3    | 8    | 9    | 3    | 3    | 3    | 9    | 3    | 3    | 9    | 3    | 3    | 3    | 3    | 9    | 4    | 4    | 4    | 4    | 4    | 4    | 4    | 4    | 6    | 8    | 4    | 9    | 4    | 4    | 4    | 4    | 4    | 1    | 4    | 6    | 5    | 5    | 9    | 5    | 3    | 8    | 8    | 5    | 5    | 5    | 5    | 9    | 5    | 5    | 5    | 8    | 5    | 9    | 5    | 1    | 6    | 6    | 6    | 6    | 1    | 6    | 6    | 6    | 6    | 6    | 6    | 6    | 6    | 6    | 6    | 6    | 6    | 6    | 6    | 6    | 7    | 7    | 7    | 7    | 7    | 7    | 7    | 8    | 7    | 7    | 7    | 7    | 7    | 7    | 3    | 7    | 7    | 7    | 7    | 7    | 8    | 8    | 3    | 8    | 8    | 8    | 8    | 1    | 8    | 6    | 8    | 9    | 1    | 8    | 3    | 1    | 5    | 8    | 5    | 8    | 0    | 3    | 5    | 9    | 9    | 3    | 0    | 9    | 3    | 9    | 4    | 3    | 9    | 3    | 8    | 3    | 3    | 9    | 5    | 9\n",
       "0    | 0    | 0    | 0    | 0    | 0    | 0    | 0    | 0    | 0    | 0    | 0    | 0    | 0    | 0    | 0    | 0    | 0    | 0    | 0    | 8    | 1    | 1    | 8    | 1    | 1    | 1    | 1    | 8    | 9    | 8    | 9    | 4    | 8    | 1    | 1    | 1    | 2    | 1    | 4    | 2    | 2    | 2    | 2    | 2    | 2    | 8    | 3    | 3    | 2    | 8    | 2    | 2    | 2    | 2    | 2    | 2    | 2    | 2    | 3    | 1    | 9    | 3    | 3    | 3    | 3    | 3    | 8    | 3    | 3    | 8    | 9    | 3    | 3    | 3    | 3    | 3    | 3    | 3    | 9    | 4    | 4    | 4    | 6    | 4    | 1    | 4    | 4    | 4    | 4    | 4    | 4    | 1    | 0    | 4    | 4    | 4    | 6    | 6    | 6    | 5    | 5    | 9    | 5    | 3    | 8    | 5    | 5    | 5    | 5    | 6    | 5    | 5    | 3    | 5    | 5    | 5    | 5    | 0    | 5    | 6    | 6    | 6    | 6    | 1    | 6    | 6    | 6    | 6    | 6    | 6    | 1    | 5    | 1    | 6    | 6    | 6    | 6    | 6    | 6    | 7    | 7    | 7    | 7    | 7    | 7    | 7    | 7    | 4    | 7    | 7    | 7    | 7    | 7    | 7    | 7    | 7    | 7    | 2    | 4    | 9    | 5    | 3    | 8    | 1    | 8    | 3    | 8    | 8    | 6    | 8    | 9    | 3    | 8    | 2    | 8    | 8    | 3    | 3    | 8    | 8    | 9    | 1    | 4    | 3    | 9    | 9    | 9    | 9    | 4    | 4    | 8    | 1    | 3    | 9    | 9    | 5    | 9    | 3    | 8\n",
       "0    | 0    | 0    | 0    | 0    | 0    | 0    | 0    | 0    | 0    | 0    | 0    | 0    | 0    | 0    | 0    | 0    | 0    | 0    | 0    | 1    | 1    | 1    | 1    | 8    | 1    | 1    | 1    | 8    | 7    | 8    | 9    | 8    | 8    | 1    | 1    | 8    | 1    | 3    | 3    | 8    | 3    | 3    | 2    | 2    | 2    | 2    | 5    | 3    | 2    | 8    | 2    | 9    | 3    | 2    | 2    | 2    | 2    | 2    | 2    | 8    | 9    | 3    | 3    | 9    | 3    | 9    | 2    | 9    | 9    | 8    | 5    | 5    | 3    | 3    | 3    | 3    | 3    | 3    | 9    | 1    | 4    | 4    | 1    | 4    | 8    | 4    | 4    | 4    | 0    | 4    | 4    | 1    | 1    | 4    | 6    | 4    | 6    | 4    | 6    | 5    | 4    | 9    | 5    | 9    | 5    | 8    | 5    | 5    | 5    | 3    | 3    | 5    | 5    | 5    | 5    | 5    | 9    | 0    | 5    | 6    | 6    | 6    | 5    | 6    | 6    | 6    | 6    | 6    | 6    | 6    | 4    | 8    | 1    | 6    | 6    | 6    | 8    | 6    | 6    | 7    | 7    | 7    | 7    | 7    | 7    | 7    | 8    | 5    | 7    | 7    | 7    | 9    | 7    | 4    | 7    | 7    | 7    | 7    | 8    | 8    | 1    | 5    | 8    | 8    | 3    | 9    | 8    | 8    | 8    | 9    | 5    | 3    | 1    | 8    | 1    | 8    | 2    | 5    | 8    | 0    | 9    | 9    | 7    | 3    | 3    | 9    | 5    | 3    | 1    | 3    | 9    | 9    | 9    | 3    | 9    | 1    | 9    | 3    | 5"
      ]
     },
     "execution_count": 10,
     "metadata": {},
     "output_type": "execute_result"
    }
   ],
   "source": [
    "def dist(x,y):\n",
    "    square = (x-y)**2\n",
    "    return (sum(square)**0.5)\n",
    "\n",
    "def find_distance_and_lables(test_digit, train_table):\n",
    "    distance_array = np.zeros(train_table.num_rows)\n",
    "    \n",
    "    for i in np.arange(0, train_table.num_rows):\n",
    "        x = np.array(train_table.drop(\"response\").row(i))\n",
    "        y = np.array(test_digit)\n",
    "        distance = dist(x,y)\n",
    "        distance_array[i] = distance\n",
    "        \n",
    "    return_table = Table().with_columns(\"distance\", distance_array,\n",
    "                                       'label',train_table.column(\"response\"))\n",
    "    return(return_table.sort(\"distance\"))\n",
    "\n",
    "def find_labels_of_nearest_neighbors(training_sample, response_name, test_sample, kmax = 10):\n",
    "    nearest_neighbor_label = Table()\n",
    "    train = training_sample\n",
    "    test = test_sample.drop(response_name)\n",
    "    for i in np.arange(0, test.num_rows):\n",
    "        t = find_distance_and_lables(test.row(i),train).column(\"label\")[:kmax]\n",
    "        nearest_neighbor_label.append_column(str(i), t)\n",
    "    return nearest_neighbor_label\n",
    "    \n",
    "find_labels_of_nearest_neighbors(digit_train,\"response\",digit_test, 10)\n",
    "    "
   ]
  },
  {
   "cell_type": "code",
   "execution_count": 11,
   "metadata": {},
   "outputs": [
    {
     "data": {
      "text/html": [
       "<table border=\"1\" class=\"dataframe\">\n",
       "    <thead>\n",
       "        <tr>\n",
       "            <th>0</th> <th>1</th> <th>2</th> <th>3</th>\n",
       "        </tr>\n",
       "    </thead>\n",
       "    <tbody>\n",
       "        <tr>\n",
       "            <td>0   </td> <td>1   </td> <td>0   </td> <td>1   </td>\n",
       "        </tr>\n",
       "    </tbody>\n",
       "        <tr>\n",
       "            <td>1   </td> <td>0   </td> <td>1   </td> <td>0   </td>\n",
       "        </tr>\n",
       "    </tbody>\n",
       "        <tr>\n",
       "            <td>0   </td> <td>0   </td> <td>0   </td> <td>1   </td>\n",
       "        </tr>\n",
       "    </tbody>\n",
       "</table>"
      ],
      "text/plain": [
       "0    | 1    | 2    | 3\n",
       "0    | 1    | 0    | 1\n",
       "1    | 0    | 1    | 0\n",
       "0    | 0    | 0    | 1"
      ]
     },
     "execution_count": 11,
     "metadata": {},
     "output_type": "execute_result"
    }
   ],
   "source": [
    "# Run this cell\n",
    "\n",
    "mini_nearest_neighbor_labels = find_labels_of_nearest_neighbors(mini_train, \"response\", mini_train.drop(\"response\"), 3)\n",
    "mini_nearest_neighbor_labels"
   ]
  },
  {
   "cell_type": "code",
   "execution_count": 13,
   "metadata": {},
   "outputs": [
    {
     "name": "stdout",
     "output_type": "stream",
     "text": [
      "[0 0 0 0 0 0 0 0 0 0]\n",
      "[1 1 1 1 1 9 4 1 8 1]\n",
      "[9 9 9 9 9 3 9 9 9 3]\n"
     ]
    }
   ],
   "source": [
    "# Run this cell\n",
    "\n",
    "digit_nearest_neighbor_labels = find_labels_of_nearest_neighbors(digit_train, \"response\", \\\n",
    "                                                                 digit_train.drop(\"response\"), 10)\n",
    "print(digit_nearest_neighbor_labels.column(\"0\"))\n",
    "print(digit_nearest_neighbor_labels.column(\"21\"))\n",
    "print(digit_nearest_neighbor_labels.column(\"181\"))\n"
   ]
  },
  {
   "cell_type": "markdown",
   "metadata": {},
   "source": [
    "\n",
    "\n",
    "***majority_vote(nearest_neighbor_labels, k)*** -  return an array of length ntest containing the predicted class labels for the test observations.\n",
    "\n"
   ]
  },
  {
   "cell_type": "code",
   "execution_count": 14,
   "metadata": {},
   "outputs": [],
   "source": [
    "def majority_vote(nearest_neighbor_labels, k):\n",
    "    tab = nearest_neighbor_labels.take(range(0,k))\n",
    "    return_array = np.zeros(nearest_neighbor_labels.num_columns)\n",
    "    for i in np.arange(0, nearest_neighbor_labels.num_columns):\n",
    "        tab2 = tab.select(str(i)).group(str(i)).sort(\"count\", descending = True)\n",
    "        x = tab2.column(str(i))[0]\n",
    "        return_array[i] = x\n",
    "    return return_array"
   ]
  },
  {
   "cell_type": "code",
   "execution_count": 15,
   "metadata": {},
   "outputs": [
    {
     "data": {
      "text/plain": [
       "array([ 0.,  0.,  0.,  1.])"
      ]
     },
     "execution_count": 15,
     "metadata": {},
     "output_type": "execute_result"
    }
   ],
   "source": [
    "# Run this cell\n",
    "\n",
    "mini_majority_vote = majority_vote(mini_nearest_neighbor_labels, 3)\n",
    "mini_majority_vote"
   ]
  },
  {
   "cell_type": "code",
   "execution_count": 16,
   "metadata": {},
   "outputs": [
    {
     "name": "stdout",
     "output_type": "stream",
     "text": [
      "0.0  1.0  9.0\n"
     ]
    }
   ],
   "source": [
    "# Run this cell\n",
    "\n",
    "digit_majority_vote = majority_vote(digit_nearest_neighbor_labels, 10)\n",
    "print(str(digit_majority_vote[0]) + \"  \" + str(digit_majority_vote[21]) \\\n",
    "      + \"  \" + str(digit_majority_vote[181]))"
   ]
  },
  {
   "cell_type": "markdown",
   "metadata": {},
   "source": [
    "classify digit_test with k = 10. Call the result \"my_prediction\""
   ]
  },
  {
   "cell_type": "code",
   "execution_count": 17,
   "metadata": {},
   "outputs": [
    {
     "data": {
      "text/plain": [
       "array([ 0.,  0.,  0.,  0.,  0.,  0.,  0.,  0.,  0.,  0.,  0.,  0.,  0.,\n",
       "        0.,  0.,  0.,  0.,  0.,  0.,  0.,  1.,  1.,  1.,  1.,  1.,  1.,\n",
       "        1.,  1.,  1.,  1.,  8.,  9.,  1.,  1.,  1.,  1.,  1.,  1.,  3.,\n",
       "        1.,  2.,  2.,  2.,  2.,  2.,  2.,  2.,  9.,  3.,  2.,  2.,  2.,\n",
       "        2.,  2.,  2.,  2.,  2.,  2.,  2.,  2.,  3.,  3.,  3.,  3.,  3.,\n",
       "        3.,  3.,  3.,  3.,  3.,  3.,  3.,  3.,  3.,  3.,  3.,  3.,  3.,\n",
       "        3.,  9.,  4.,  4.,  4.,  4.,  4.,  4.,  4.,  4.,  4.,  4.,  4.,\n",
       "        4.,  4.,  4.,  4.,  4.,  4.,  4.,  4.,  4.,  5.,  5.,  9.,  5.,\n",
       "        9.,  5.,  5.,  5.,  5.,  5.,  5.,  5.,  5.,  5.,  5.,  5.,  5.,\n",
       "        9.,  5.,  8.,  6.,  6.,  6.,  6.,  6.,  6.,  6.,  6.,  6.,  6.,\n",
       "        6.,  6.,  6.,  6.,  6.,  6.,  6.,  6.,  6.,  6.,  7.,  7.,  7.,\n",
       "        7.,  7.,  7.,  7.,  7.,  7.,  7.,  7.,  7.,  7.,  7.,  7.,  7.,\n",
       "        7.,  7.,  7.,  7.,  8.,  8.,  8.,  8.,  8.,  8.,  8.,  8.,  8.,\n",
       "        8.,  8.,  9.,  8.,  8.,  8.,  8.,  8.,  3.,  5.,  8.,  9.,  9.,\n",
       "        9.,  9.,  9.,  9.,  9.,  9.,  9.,  9.,  9.,  9.,  9.,  9.,  9.,\n",
       "        9.,  9.,  9.,  9.,  9.])"
      ]
     },
     "execution_count": 17,
     "metadata": {},
     "output_type": "execute_result"
    }
   ],
   "source": [
    "nearest_neighbor_labels = find_labels_of_nearest_neighbors(digit_train,\"response\", digit_test,10)\n",
    "my_prediction = majority_vote(nearest_neighbor_labels, 10)\n",
    "\n",
    "my_prediction "
   ]
  },
  {
   "cell_type": "markdown",
   "metadata": {},
   "source": [
    "\n",
    "\n",
    "Classify digit_test with k = 10.\n",
    "\n",
    "Call the result scikit_learn_prediction"
   ]
  },
  {
   "cell_type": "code",
   "execution_count": 18,
   "metadata": {},
   "outputs": [],
   "source": [
    "def knn_classifier_fit(knn_classifier, training_sample, response_name):\n",
    "    ntrain = training_sample.num_rows\n",
    "    response = training_sample.column(response_name)\n",
    "    predictors = training_sample.drop(response_name)\n",
    "    npred = predictors.num_columns\n",
    "    predictor_array = np.zeros((ntrain, npred))\n",
    "    for i in np.arange(npred):\n",
    "        column_i = predictors.column(i)\n",
    "        for j in np.arange(ntrain):\n",
    "            predictor_array[j, i] = column_i[j]\n",
    "    knn_classifier.fit(predictor_array, response)\n",
    "    return(knn_classifier)\n",
    "\n",
    "def knn_classifier_predict(knn_classifier, test_sample):\n",
    "    ntest = test_sample.num_rows\n",
    "    npred = test_sample.num_columns\n",
    "    predictor_array = np.zeros((ntest, npred))\n",
    "    for i in np.arange(npred):\n",
    "        column_i = test_sample.column(i)\n",
    "        for j in np.arange(ntest):\n",
    "            predictor_array[j, i] = column_i[j]\n",
    "    predicted_response = knn_classifier.predict(predictor_array)\n",
    "    return(predicted_response)"
   ]
  },
  {
   "cell_type": "code",
   "execution_count": 28,
   "metadata": {
    "scrolled": true
   },
   "outputs": [
    {
     "data": {
      "text/plain": [
       "array([0, 0, 0, 0, 0, 0, 0, 0, 0, 0, 0, 0, 0, 0, 0, 0, 0, 0, 0, 0, 1, 1, 1,\n",
       "       1, 1, 1, 1, 1, 1, 1, 1, 9, 1, 1, 1, 1, 1, 1, 3, 1, 2, 2, 2, 2, 2, 2,\n",
       "       2, 9, 3, 2, 2, 2, 2, 2, 2, 2, 2, 2, 2, 2, 3, 3, 3, 3, 3, 3, 3, 3, 3,\n",
       "       3, 3, 3, 3, 3, 3, 3, 3, 3, 3, 3, 4, 4, 4, 4, 4, 4, 4, 4, 4, 4, 4, 4,\n",
       "       4, 4, 4, 4, 4, 4, 4, 4, 5, 5, 5, 5, 9, 5, 5, 5, 5, 5, 5, 5, 5, 5, 5,\n",
       "       5, 5, 9, 5, 5, 6, 6, 6, 6, 6, 6, 6, 6, 6, 6, 6, 6, 6, 6, 6, 6, 6, 6,\n",
       "       6, 6, 7, 7, 7, 7, 7, 7, 7, 7, 7, 7, 7, 7, 7, 7, 7, 7, 7, 7, 7, 7, 8,\n",
       "       8, 8, 8, 8, 8, 8, 8, 8, 8, 8, 9, 8, 8, 8, 8, 8, 3, 5, 8, 9, 3, 9, 9,\n",
       "       9, 9, 9, 9, 9, 9, 9, 9, 9, 9, 9, 9, 9, 9, 9, 9])"
      ]
     },
     "execution_count": 28,
     "metadata": {},
     "output_type": "execute_result"
    }
   ],
   "source": [
    "# classify digit_test with k = 10.\n",
    "k = 10\n",
    "knn_classifier = KNeighborsClassifier(k)\n",
    "\n",
    "fit_model = knn_classifier_fit(knn_classifier, digit_train, \"response\")\n",
    "scikit_learn_prediction = knn_classifier_predict(knn_classifier, digit_test.drop(\"response\"))\n",
    "\n",
    "\n",
    "scikit_learn_prediction"
   ]
  },
  {
   "cell_type": "markdown",
   "metadata": {},
   "source": [
    "\n",
    "Count the number of test observations for which my_prediction is different from scikit_learn_prediction. Call the result num_diff"
   ]
  },
  {
   "cell_type": "code",
   "execution_count": 32,
   "metadata": {},
   "outputs": [
    {
     "data": {
      "text/plain": [
       "5"
      ]
     },
     "execution_count": 32,
     "metadata": {},
     "output_type": "execute_result"
    }
   ],
   "source": [
    "def count (my_prediction, scikit_learn_prediction):\n",
    "    num = 0\n",
    "    for i in np.arange(0, len(my_prediction)):\n",
    "        if my_prediction[i] != scikit_learn_prediction[i]:\n",
    "            num = num + 1\n",
    "    return num\n",
    "\n",
    "count(my_prediction, scikit_learn_prediction)"
   ]
  },
  {
   "cell_type": "markdown",
   "metadata": {},
   "source": [
    "The difference exists because there is no unique way of majority vote. My code and scikit-learn code probably used different method for choosing majority vote."
   ]
  },
  {
   "cell_type": "code",
   "execution_count": null,
   "metadata": {},
   "outputs": [],
   "source": []
  }
 ],
 "metadata": {
  "anaconda-cloud": {},
  "kernelspec": {
   "display_name": "Python 3",
   "language": "python",
   "name": "python3"
  },
  "language_info": {
   "codemirror_mode": {
    "name": "ipython",
    "version": 3
   },
   "file_extension": ".py",
   "mimetype": "text/x-python",
   "name": "python",
   "nbconvert_exporter": "python",
   "pygments_lexer": "ipython3",
   "version": "3.5.4"
  },
  "varInspector": {
   "cols": {
    "lenName": 16,
    "lenType": 16,
    "lenVar": 40
   },
   "kernels_config": {
    "python": {
     "delete_cmd_postfix": "",
     "delete_cmd_prefix": "del ",
     "library": "var_list.py",
     "varRefreshCmd": "print(var_dic_list())"
    },
    "r": {
     "delete_cmd_postfix": ") ",
     "delete_cmd_prefix": "rm(",
     "library": "var_list.r",
     "varRefreshCmd": "cat(var_dic_list()) "
    }
   },
   "types_to_exclude": [
    "module",
    "function",
    "builtin_function_or_method",
    "instance",
    "_Feature"
   ],
   "window_display": false
  }
 },
 "nbformat": 4,
 "nbformat_minor": 1
}
