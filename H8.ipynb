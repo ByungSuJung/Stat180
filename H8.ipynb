{
 "cells": [
  {
   "cell_type": "markdown",
   "metadata": {},
   "source": [
    "Introduction to Data Science <br> Winter 2018\n",
    "\n",
    "# Homework 8\n",
    "Due Saturday, 3/3/2018 , 3:00am\n",
    "\n",
    "Please complete this notebook by filling in the cells provided. Once you are finished, \"Save and Checkpoint\" the notebook, download the ipynb and html versions to your computer, and submit the html version. \n",
    "\n",
    "**Total points: ** 130"
   ]
  },
  {
   "cell_type": "markdown",
   "metadata": {},
   "source": [
    "A summary of the methods to Table is [here](http://data8.org/datascience/tables.html) <br>\n",
    "A tutorial for the datascience module is [here](http://data8.org/datascience/tutorial.html) <br>\n",
    "A cheatsheet for the datascience module is [here](https://github.com/wstuetzle/STAT180/blob/master/Computing/data8_sp17_midterm_ref_sheet.pdf)"
   ]
  },
  {
   "cell_type": "code",
   "execution_count": 10,
   "metadata": {},
   "outputs": [],
   "source": [
    "from datascience import *\n",
    "import numpy as np\n",
    "import seaborn as sns\n",
    "sns.set_style(\"whitegrid\")\n",
    "%matplotlib inline"
   ]
  },
  {
   "cell_type": "markdown",
   "metadata": {},
   "source": [
    "## Part 1\n",
    "\n",
    "In the first part of this homework we will work with Francis Galton's data on paternal and child heights. We will use code from the notebook \"looking-at-pairs-of-features-part2-1-23-2018.ipynb\". You should review this notebook, especially the section on \"Looking at a pair of numerical features\".\n",
    "\n",
    "We are interested in the question whether there is evidence for \"assortative mating\" - tall men are married to tall women, and short men are married to short women.\n",
    "\n",
    "**Question 1** (5 points): Using code from the \"looking at pairs....\" notebook, produce the table \"galton_parents\". Show the first five rows."
   ]
  },
  {
   "cell_type": "code",
   "execution_count": 4,
   "metadata": {},
   "outputs": [
    {
     "data": {
      "text/html": [
       "<table border=\"1\" class=\"dataframe\">\n",
       "    <thead>\n",
       "        <tr>\n",
       "            <th>family</th> <th>fat_hei</th> <th>mom_hei</th> <th>mid_hei</th> <th>children</th> <th>childNum</th> <th>gender</th> <th>chi_hei</th>\n",
       "        </tr>\n",
       "    </thead>\n",
       "    <tbody>\n",
       "        <tr>\n",
       "            <td>1     </td> <td>78.5   </td> <td>67     </td> <td>75.43  </td> <td>4       </td> <td>1       </td> <td>male  </td> <td>73.2   </td>\n",
       "        </tr>\n",
       "    </tbody>\n",
       "        <tr>\n",
       "            <td>1     </td> <td>78.5   </td> <td>67     </td> <td>75.43  </td> <td>4       </td> <td>2       </td> <td>female</td> <td>69.2   </td>\n",
       "        </tr>\n",
       "    </tbody>\n",
       "        <tr>\n",
       "            <td>1     </td> <td>78.5   </td> <td>67     </td> <td>75.43  </td> <td>4       </td> <td>3       </td> <td>female</td> <td>69     </td>\n",
       "        </tr>\n",
       "    </tbody>\n",
       "        <tr>\n",
       "            <td>1     </td> <td>78.5   </td> <td>67     </td> <td>75.43  </td> <td>4       </td> <td>4       </td> <td>female</td> <td>69     </td>\n",
       "        </tr>\n",
       "    </tbody>\n",
       "        <tr>\n",
       "            <td>2     </td> <td>75.5   </td> <td>66.5   </td> <td>73.66  </td> <td>4       </td> <td>1       </td> <td>male  </td> <td>73.5   </td>\n",
       "        </tr>\n",
       "    </tbody>\n",
       "</table>\n",
       "<p>... (929 rows omitted)</p"
      ],
      "text/plain": [
       "<IPython.core.display.HTML object>"
      ]
     },
     "metadata": {},
     "output_type": "display_data"
    }
   ],
   "source": [
    "galton_parents = Table.read_table('http://inferentialthinking.com/notebooks/galton.csv')\n",
    "galton_parents = galton_parents.relabeled(1, \"fat_hei\").relabeled(2, \"mom_hei\").relabeled(3, \"mid_hei\") \\\n",
    "         .relabeled(7, \"chi_hei\")\n",
    "\n",
    "galton_parents.show(5)"
   ]
  },
  {
   "cell_type": "markdown",
   "metadata": {},
   "source": [
    "**Question 2:** (5 points) Draw a scatterplot of mom_hei (on the vertical axis) versus fat_hei."
   ]
  },
  {
   "cell_type": "code",
   "execution_count": 5,
   "metadata": {},
   "outputs": [
    {
     "data": {
      "image/png": "[encoded data removed]",
      "text/plain": [
       "<matplotlib.figure.Figure at 0x223f61fc550>"
      ]
     },
     "metadata": {},
     "output_type": "display_data"
    }
   ],
   "source": [
    "galton_parents.scatter(\"fat_hei\", \"mom_hei\", width = 7, height = 7)"
   ]
  },
  {
   "cell_type": "markdown",
   "metadata": {},
   "source": [
    "To see whether there is an association we try to predict mom_hei from fat_hei. If there is no association then randomly changing the mother-father pairings won't make the prediction any more difficult.\n",
    "\n",
    "The logic is the same as in HW07, when we were interested in the association between birth weight and gestational days. In HW07 we used the quadrant correlation as a measure of association. Here we will use the mean squared error of a prediction rule.\n",
    "\n",
    "We will use the conditional mean curve for prediction."
   ]
  },
  {
   "cell_type": "markdown",
   "metadata": {},
   "source": [
    "**Question 3:** (20 points) Use the function \"conditional_mean_curve\" from the \"looking-at-pairs....\" notebook to estimate the conditional mean of mom_hei for every value of fat_hei with window_width = 7. Draw the conditional mean curve.\n",
    "\n",
    "**Note**: There was a mistake in the original version of the code for the function conditional_mean_curve. I have fixed this mistake. Please make sure you use the current version of the notebook on Canvas."
   ]
  },
  {
   "cell_type": "code",
   "execution_count": 6,
   "metadata": {},
   "outputs": [],
   "source": [
    "def conditional_mean(table, y, x, x_query, window_width, draw_histogram = False,\n",
    "                     histogram_bins = None):\n",
    "    '''\n",
    "    From data in table estimate the conditional mean of numerical feature y, given\n",
    "    numerical feature x = x_query, by averaging the values of y for the observations \n",
    "    (rows) with values of x in a window centered at x_query. \n",
    "    If draw_histogram = True the function draws a histogram of the conditional distribution. \n",
    "    ''' \n",
    "    table_sub = table.where(x, are.between(x_query - 0.5 * window_width,\n",
    "                                           x_query + 0.5 * window_width))\n",
    "    if draw_histogram:\n",
    "        table_sub.hist(y, unit = None, bins = histogram_bins)\n",
    "    return np.mean(table_sub.column(y))"
   ]
  },
  {
   "cell_type": "code",
   "execution_count": 7,
   "metadata": {},
   "outputs": [],
   "source": [
    "def conditional_mean_curve(table, y, x, window_width, grid = None, plot = False):\n",
    "    '''\n",
    "    Plot the conditional mean of y, given x on a grid. Default grid has\n",
    "    100 grid points, evenly spaced and spanning the range of the data\n",
    "    '''\n",
    "    if type(grid) != np.ndarray:\n",
    "        ngrid = 100\n",
    "        x_values = table.column(x)\n",
    "        grid = np.linspace(min(x_values), max(x_values), ngrid)\n",
    "    else:\n",
    "        ngrid = len(grid)\n",
    "    cond_mean = np.zeros(ngrid)\n",
    "    for i in np.arange(ngrid):\n",
    "        cond_mean[i] = conditional_mean(table, y, x, grid[i], window_width)\n",
    "    tab = Table().with_columns(x, grid, (\"cond_mean_of_\" + y), cond_mean)\n",
    "    if plot:\n",
    "        tab.plot(x)\n",
    "    return cond_mean\n",
    "   "
   ]
  },
  {
   "cell_type": "code",
   "execution_count": 8,
   "metadata": {},
   "outputs": [
    {
     "data": {
      "image/png": "[encoded data removed]",
      "text/plain": [
       "<matplotlib.figure.Figure at 0x22399266da0>"
      ]
     },
     "metadata": {},
     "output_type": "display_data"
    }
   ],
   "source": [
    "cond_mean = conditional_mean_curve(galton_parents, \"mom_hei\",\"fat_hei\", 7, plot = True)"
   ]
  },
  {
   "cell_type": "markdown",
   "metadata": {},
   "source": [
    "**Question 4:** (10 points) Calculate and output mse_original, the mean squared prediction error of the conditional mean predictor."
   ]
  },
  {
   "cell_type": "code",
   "execution_count": 16,
   "metadata": {},
   "outputs": [
    {
     "data": {
      "text/html": [
       "<table border=\"1\" class=\"dataframe\">\n",
       "    <thead>\n",
       "        <tr>\n",
       "            <th>MSE</th>\n",
       "        </tr>\n",
       "    </thead>\n",
       "    <tbody>\n",
       "        <tr>\n",
       "            <td>5.29855</td>\n",
       "        </tr>\n",
       "    </tbody>\n",
       "</table>"
      ],
      "text/plain": [
       "<IPython.core.display.HTML object>"
      ]
     },
     "metadata": {},
     "output_type": "display_data"
    }
   ],
   "source": [
    "def mse(observed, predicted):\n",
    "    return ((observed - predicted)**2).mean()\n",
    "\n",
    "observed = galton_parents.column(\"mom_hei\")\n",
    "\n",
    "predicted = conditional_mean_curve(table =galton_parents, y = \"mom_hei\", x = \"fat_hei\", window_width = 7, grid = galton_parents.column(\"fat_hei\"))\n",
    "\n",
    "mse_observed = mse(observed, predicted)\n",
    "\n",
    "mse_perm_tbl = Table().with_column(\"MSE\", mse_observed)\n",
    "mse_perm_tbl.show()"
   ]
  },
  {
   "cell_type": "markdown",
   "metadata": {},
   "source": [
    "**Question 5:** (20 points) Calculate the mse of the conditional mean for 100 random pairings of mon_hei with fat_hei. Draw a histogram of the permutation distribution of mse."
   ]
  },
  {
   "cell_type": "code",
   "execution_count": 19,
   "metadata": {},
   "outputs": [
    {
     "data": {
      "image/png": "[encoded data removed]",
      "text/plain": [
       "<matplotlib.figure.Figure at 0x2239b583b00>"
      ]
     },
     "metadata": {},
     "output_type": "display_data"
    }
   ],
   "source": [
    "n_perms = 99\n",
    "mses = np.zeros(n_perms + 1)\n",
    "mses[0] = mse_observed\n",
    "\n",
    "for i in np.arange(start = 1, stop = n_perms + 1):\n",
    "    \n",
    "    \n",
    "    predicted = predicted = conditional_mean_curve(table =galton_parents, y = \"mom_hei\", x = \"fat_hei\", window_width = 7, \n",
    "                                                   grid = galton_parents.sample(with_replacement=False).column(\"fat_hei\"))\n",
    "    mses[i] = mse(observed, predicted)\n",
    "\n",
    "mses_tbl = Table().with_column(\"MSE\", mses)\n",
    "mses_tbl.hist()\n",
    "\n",
    "    "
   ]
  },
  {
   "cell_type": "markdown",
   "metadata": {},
   "source": [
    "**Question 6:** (10 points) Calculate and output the p-value of the permutation test for the null hypotheses that there is no association between fat_hei and mom_hei."
   ]
  },
  {
   "cell_type": "code",
   "execution_count": 22,
   "metadata": {},
   "outputs": [
    {
     "data": {
      "text/plain": [
       "0.97999999999999998"
      ]
     },
     "execution_count": 22,
     "metadata": {},
     "output_type": "execute_result"
    }
   ],
   "source": [
    "p_val = (mses_tbl.column(\"MSE\") <= mse_observed).sum() / (n_perms + 1)\n",
    "\n",
    "p_val"
   ]
  },
  {
   "cell_type": "markdown",
   "metadata": {},
   "source": [
    "**Question 7:** (10 points) Is there evidence for assortative mating based on height? Justify your answer."
   ]
  },
  {
   "cell_type": "code",
   "execution_count": 15,
   "metadata": {},
   "outputs": [
    {
     "data": {
      "text/plain": [
       "Ellipsis"
      ]
     },
     "execution_count": 15,
     "metadata": {},
     "output_type": "execute_result"
    }
   ],
   "source": [
    "..."
   ]
  },
  {
   "cell_type": "markdown",
   "metadata": {},
   "source": [
    "## Part 2\n",
    "\n",
    "In the second part of this homework we will carry out an alternative analysis of the cloud seeding data. You should review the notebook on \"Establishing causality\" where the cloud seeding data were discussed. Using a permutation test, we found strong strong evidence that cloud seeding does increase the median rainfall"
   ]
  },
  {
   "cell_type": "markdown",
   "metadata": {},
   "source": [
    "**Question 8:** (5 points) Read the cloud seeding data into a table \"csd\" and print the first 5 rows"
   ]
  },
  {
   "cell_type": "code",
   "execution_count": 20,
   "metadata": {},
   "outputs": [
    {
     "data": {
      "text/html": [
       "<table border=\"1\" class=\"dataframe\">\n",
       "    <thead>\n",
       "        <tr>\n",
       "            <th>rainfall</th> <th>treatment</th>\n",
       "        </tr>\n",
       "    </thead>\n",
       "    <tbody>\n",
       "        <tr>\n",
       "            <td>4.9     </td> <td>unseeded </td>\n",
       "        </tr>\n",
       "    </tbody>\n",
       "        <tr>\n",
       "            <td>4.9     </td> <td>unseeded </td>\n",
       "        </tr>\n",
       "    </tbody>\n",
       "        <tr>\n",
       "            <td>2745.6  </td> <td>seeded   </td>\n",
       "        </tr>\n",
       "    </tbody>\n",
       "        <tr>\n",
       "            <td>1697.8  </td> <td>seeded   </td>\n",
       "        </tr>\n",
       "    </tbody>\n",
       "        <tr>\n",
       "            <td>1656    </td> <td>seeded   </td>\n",
       "        </tr>\n",
       "    </tbody>\n",
       "</table>\n",
       "<p>... (47 rows omitted)</p"
      ],
      "text/plain": [
       "<IPython.core.display.HTML object>"
      ]
     },
     "metadata": {},
     "output_type": "display_data"
    }
   ],
   "source": [
    "csd = Table.read_table(\"cloud-seeding-data (1).csv\")\n",
    "csd.show(5)"
   ]
  },
  {
   "cell_type": "markdown",
   "metadata": {},
   "source": [
    "**Question 9:** (5 points) Calculate the difference diff_original between the median rainfall for seeded clouds and the median rainfall for unseeded clouds"
   ]
  },
  {
   "cell_type": "code",
   "execution_count": 24,
   "metadata": {},
   "outputs": [
    {
     "data": {
      "text/plain": [
       "177.39999999999998"
      ]
     },
     "execution_count": 24,
     "metadata": {},
     "output_type": "execute_result"
    }
   ],
   "source": [
    "diff_original = np.median(csd.where(\"treatment\", are.equal_to(\"seeded\")).column(\"rainfall\")) \\\n",
    "- np.median(csd.where(\"treatment\", are.equal_to(\"unseeded\")).column(\"rainfall\"))\n",
    "\n",
    "diff_original"
   ]
  },
  {
   "cell_type": "markdown",
   "metadata": {},
   "source": [
    "**Question 10:** (20 points) Calculate the difference between medians for 400 bootstrap replications. Draw a histogram of the differences.\n",
    "\n",
    "**Note:** For each bootstrap replication you have to draw a sample of size 26 with replacement from the 26 seeded clouds and a sample of size 26 with replacement from the 26 unseeded clouds."
   ]
  },
  {
   "cell_type": "code",
   "execution_count": 34,
   "metadata": {},
   "outputs": [],
   "source": [
    "def statistics(table):\n",
    "    return(np.median(table.column(\"rainfall\")))\n",
    "\n",
    "num_boot = 400\n",
    "sample1 = csd.where(\"treatment\", are.equal_to(\"seeded\")).select(\"rainfall\")\n",
    "sample2 = csd.where(\"treatment\", are.equal_to(\"unseeded\")).select(\"rainfall\")\n",
    "seeded_sample = sample1.sample(26, with_replacement = True)\n",
    "unseeded_sample = sample2.sample(26, with_replacement= True)\n",
    "\n",
    "def bootstrap(sample, statistics, num_boot):\n",
    "    resample_values = np.zeros(num_boot)\n",
    "    for i in np.arange(num_boot):\n",
    "        resample = sample.sample(sample.num_rows, with_replacement= True)\n",
    "        resample_values[i] = statistics(resample)\n",
    "    return resample_values"
   ]
  },
  {
   "cell_type": "code",
   "execution_count": 53,
   "metadata": {},
   "outputs": [
    {
     "data": {
      "image/png": "[encoded data removed]",
      "text/plain": [
       "<matplotlib.figure.Figure at 0x21607660400>"
      ]
     },
     "metadata": {},
     "output_type": "display_data"
    }
   ],
   "source": [
    "seeded_median = bootstrap(seeded_sample, statistics, num_boot)\n",
    "unseeded_median = bootstrap(unseeded_sample, statistics, num_boot)\n",
    "\n",
    "diff = seeded_median - unseeded_median\n",
    "median_diff = Table().with_column(\"median_diff\", diff)\n",
    "\n",
    "median_diff.hist()"
   ]
  },
  {
   "cell_type": "markdown",
   "metadata": {},
   "source": [
    "**Question 11:** (10 points) Calculate a bootstrap percentile confidence interval for confidence leven 0.95.\n",
    "(The confidence interval should be an array of length 2.)"
   ]
  },
  {
   "cell_type": "code",
   "execution_count": 54,
   "metadata": {},
   "outputs": [
    {
     "data": {
      "text/plain": [
       "[102.89874999999999, 675.72749999999985]"
      ]
     },
     "execution_count": 54,
     "metadata": {},
     "output_type": "execute_result"
    }
   ],
   "source": [
    "percentile_confidence_interval = [np.percentile(diff, 2.5), np.percentile(diff, 97.5)]\n",
    "percentile_confidence_interval\n"
   ]
  },
  {
   "cell_type": "markdown",
   "metadata": {},
   "source": [
    "**Question 12:** (10 points) Does this analysis support or contradict our previous conclusion that cloud seeding increases the amount of rainfall? Explain your answer."
   ]
  },
  {
   "cell_type": "markdown",
   "metadata": {},
   "source": [
    "This analysis supports our previous conclusion that cloud seeding increases the amount of rainfall.\n",
    "The original difference in median of seeded and unseeded is contained in the percentile interval with 95%. It basically tell us that the original difference lies with in the percentile confident interval which is 95%."
   ]
  },
  {
   "cell_type": "code",
   "execution_count": null,
   "metadata": {},
   "outputs": [],
   "source": [
    "0 is not in coinfidence interval! so it means something\n",
    "\n",
    "duality between conf int and p_value\n",
    "significant leve l20"
   ]
  }
 ],
 "metadata": {
  "kernelspec": {
   "display_name": "Python 3",
   "language": "python",
   "name": "python3"
  },
  "language_info": {
   "codemirror_mode": {
    "name": "ipython",
    "version": 3
   },
   "file_extension": ".py",
   "mimetype": "text/x-python",
   "name": "python",
   "nbconvert_exporter": "python",
   "pygments_lexer": "ipython3",
   "version": "3.6.3"
  },
  "varInspector": {
   "cols": {
    "lenName": 16,
    "lenType": 16,
    "lenVar": 40
   },
   "kernels_config": {
    "python": {
     "delete_cmd_postfix": "",
     "delete_cmd_prefix": "del ",
     "library": "var_list.py",
     "varRefreshCmd": "print(var_dic_list())"
    },
    "r": {
     "delete_cmd_postfix": ") ",
     "delete_cmd_prefix": "rm(",
     "library": "var_list.r",
     "varRefreshCmd": "cat(var_dic_list()) "
    }
   },
   "types_to_exclude": [
    "module",
    "function",
    "builtin_function_or_method",
    "instance",
    "_Feature"
   ],
   "window_display": false
  }
 },
 "nbformat": 4,
 "nbformat_minor": 1
}
