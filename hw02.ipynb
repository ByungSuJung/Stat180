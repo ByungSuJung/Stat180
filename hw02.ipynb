{
 "cells": [
  {
   "cell_type": "markdown",
   "metadata": {},
   "source": [
    "Introduction to Data Science <br> Winter 2018\n",
    "\n",
    "# Homework 2 \n",
    "Due Saturday, 1/20, 3:00am\n",
    "50 points\n",
    "\n",
    "Please complete this notebook by filling in the cells provided. Once you are finished, \"Save and Checkpoint\" the notebook, download the ipynb and html versions to your computer, and submit the html version. "
   ]
  },
  {
   "cell_type": "markdown",
   "metadata": {},
   "source": [
    "**Reading**: Textbook chapters [Data Types](http://www.inferentialthinking.com/chapters/04/data-types.html) and [Tables](http://www.inferentialthinking.com/chapters/05/tables.html)."
   ]
  },
  {
   "cell_type": "code",
   "execution_count": 54,
   "metadata": {},
   "outputs": [],
   "source": [
    "# Don't change this cell; just run it. \n",
    "import numpy as np\n",
    "from datascience import *"
   ]
  },
  {
   "cell_type": "markdown",
   "metadata": {},
   "source": [
    "### 1. Creating Arrays\n"
   ]
  },
  {
   "cell_type": "markdown",
   "metadata": {},
   "source": [
    "**Question 1.** Make an array called `weird_numbers` containing the following numbers (in the given order):\n",
    "\n",
    "1. -2\n",
    "2. the sine of 1.2\n",
    "3. 3\n",
    "4. 5 to the power of the cosine of 1.2\n",
    "\n",
    "*Hint:* `sin` and `cos` are functions in the `math` module."
   ]
  },
  {
   "cell_type": "code",
   "execution_count": 55,
   "metadata": {},
   "outputs": [
    {
     "data": {
      "text/plain": [
       "array([-2.        ,  0.93203909,  3.        ,  1.79174913])"
      ]
     },
     "execution_count": 55,
     "metadata": {},
     "output_type": "execute_result"
    }
   ],
   "source": [
    "# Our solution involved one extra line of code before creating\n",
    "# weird_numbers.\n",
    "...\n",
    "weird_numbers = make_array(-2 ,np.sin(1.2) ,3 ,5 ** np.cos(1.2) )\n",
    "weird_numbers"
   ]
  },
  {
   "cell_type": "markdown",
   "metadata": {},
   "source": [
    "**Question 2.** Make an array called `book_title_words` containing the following three strings: \"Eats\", \"Shoots\", and \"and Leaves\"."
   ]
  },
  {
   "cell_type": "code",
   "execution_count": 27,
   "metadata": {},
   "outputs": [
    {
     "data": {
      "text/plain": [
       "array(['Eats', 'Shoots', 'and Leaves'],\n",
       "      dtype='<U10')"
      ]
     },
     "execution_count": 27,
     "metadata": {},
     "output_type": "execute_result"
    }
   ],
   "source": [
    "book_title_words = make_array('Eats', 'Shoots', 'and Leaves')\n",
    "book_title_words"
   ]
  },
  {
   "cell_type": "markdown",
   "metadata": {},
   "source": [
    "Strings have a method called `join`.  `join` takes one argument, an array of strings.  It returns a single string.  Specifically, the value of `a_string.join(an_array)` is a single string that's the [concatenation](https://en.wikipedia.org/wiki/Concatenation) (\"putting together\") of all the strings in `an_array`, **except** `a_string` is inserted in between each string\n",
    "\n",
    "**Question 3.** Use the array `book_title_words` and the method `join` to make two strings:\n",
    "\n",
    "1. \"Eats, Shoots, and Leaves\" (call this one `with_commas`)\n",
    "2. \"Eats Shoots and Leaves\" (call this one `without_commas`)\n",
    "\n",
    "*Hint:* If you're not sure what `join` does, first try just calling, for example, `\"foo\".join(book_title_words)` ."
   ]
  },
  {
   "cell_type": "code",
   "execution_count": 28,
   "metadata": {},
   "outputs": [
    {
     "name": "stdout",
     "output_type": "stream",
     "text": [
      "with_commas: Eats, Shoots, and Leaves\n",
      "without_commas: Eats Shoots and Leaves\n"
     ]
    }
   ],
   "source": [
    "with_commas = \", \".join(book_title_words)\n",
    "without_commas = \" \".join(book_title_words)\n",
    "\n",
    "# These lines are provided just to print out your answers.\n",
    "print('with_commas:', with_commas)\n",
    "print('without_commas:', without_commas)"
   ]
  },
  {
   "cell_type": "markdown",
   "metadata": {},
   "source": [
    "### 2. Indexing Arrays\n"
   ]
  },
  {
   "cell_type": "markdown",
   "metadata": {},
   "source": [
    "These exercises give you practice accessing individual elements of arrays.  In Python (and in many programming languages), elements are accessed by *index*, so the first element is the element at index 0.  "
   ]
  },
  {
   "cell_type": "markdown",
   "metadata": {},
   "source": [
    "**Question 1.** The cell below creates an array of some numbers.  Set `third_element` to the third element of `some_numbers`."
   ]
  },
  {
   "cell_type": "code",
   "execution_count": 29,
   "metadata": {},
   "outputs": [
    {
     "data": {
      "text/plain": [
       "-6"
      ]
     },
     "execution_count": 29,
     "metadata": {},
     "output_type": "execute_result"
    }
   ],
   "source": [
    "some_numbers = make_array(-1, -3, -6, -10, -15)\n",
    "\n",
    "third_element = some_numbers[2]\n",
    "third_element"
   ]
  },
  {
   "cell_type": "markdown",
   "metadata": {},
   "source": [
    "**Question 2.** The next cell creates a table that displays some information about the elements of `some_numbers` and their order.  Run the cell to see the partially-completed table, then fill in the missing information in the cell (the strings that are currently \"???\") to complete the table."
   ]
  },
  {
   "cell_type": "code",
   "execution_count": 30,
   "metadata": {},
   "outputs": [
    {
     "data": {
      "text/html": [
       "<table border=\"1\" class=\"dataframe\">\n",
       "    <thead>\n",
       "        <tr>\n",
       "            <th>English name for position</th> <th>Index</th> <th>Element</th>\n",
       "        </tr>\n",
       "    </thead>\n",
       "    <tbody>\n",
       "        <tr>\n",
       "            <td>first                    </td> <td>0    </td> <td>-1     </td>\n",
       "        </tr>\n",
       "    </tbody>\n",
       "        <tr>\n",
       "            <td>second                   </td> <td>1    </td> <td>-3     </td>\n",
       "        </tr>\n",
       "    </tbody>\n",
       "        <tr>\n",
       "            <td>third                    </td> <td>2    </td> <td>-6     </td>\n",
       "        </tr>\n",
       "    </tbody>\n",
       "        <tr>\n",
       "            <td>fourth                   </td> <td>3    </td> <td>-10    </td>\n",
       "        </tr>\n",
       "    </tbody>\n",
       "        <tr>\n",
       "            <td>fifth                    </td> <td>4    </td> <td>-15    </td>\n",
       "        </tr>\n",
       "    </tbody>\n",
       "</table>"
      ],
      "text/plain": [
       "English name for position | Index | Element\n",
       "first                     | 0     | -1\n",
       "second                    | 1     | -3\n",
       "third                     | 2     | -6\n",
       "fourth                    | 3     | -10\n",
       "fifth                     | 4     | -15"
      ]
     },
     "execution_count": 30,
     "metadata": {},
     "output_type": "execute_result"
    }
   ],
   "source": [
    "elements_of_some_numbers = Table().with_columns(\n",
    "    \"English name for position\", make_array(\"first\", \"second\", \"third\", \"fourth\", \"fifth\"),\n",
    "    \"Index\",                     make_array(\"0\", \"1\", \"2\", \"3\", \"4\"),\n",
    "    \"Element\",                   some_numbers)\n",
    "elements_of_some_numbers"
   ]
  },
  {
   "cell_type": "markdown",
   "metadata": {},
   "source": [
    "**Question 3.** You'll sometimes want to find the *last* element of an array.  Suppose an array has 142 elements.  What is the index of its last element?"
   ]
  },
  {
   "cell_type": "code",
   "execution_count": 31,
   "metadata": {},
   "outputs": [],
   "source": [
    "index_of_last_element = 141\n",
    "# But also you can find last element by letting index = -1\n",
    "# Also by index_of_last_element = len(ARRAY) - 1"
   ]
  },
  {
   "cell_type": "markdown",
   "metadata": {},
   "source": [
    "More often, you don't know the number of elements in an array, its *length*.  (For example, it might be a large dataset you found on the Internet.)  The function `len` takes a single argument, an array, and returns the `len`gth of that array (an integer).\n",
    "\n",
    "**Question 4.** The cell below loads an array called `president_birth_years`.  The last element in that array is the most recent birth year of any deceased president. Assign that year to `most_recent_birth_year`."
   ]
  },
  {
   "cell_type": "code",
   "execution_count": 32,
   "metadata": {},
   "outputs": [
    {
     "data": {
      "text/plain": [
       "1917"
      ]
     },
     "execution_count": 32,
     "metadata": {},
     "output_type": "execute_result"
    }
   ],
   "source": [
    "president_birth_years = Table.read_table(\"president_births.csv\").column('Birth Year')\n",
    "\n",
    "most_recent_birth_year = president_birth_years[-1]\n",
    "most_recent_birth_year"
   ]
  },
  {
   "cell_type": "markdown",
   "metadata": {},
   "source": [
    "### 3. Basic Array Arithmetic\n"
   ]
  },
  {
   "cell_type": "markdown",
   "metadata": {},
   "source": [
    "**Question 1.** Multiply the numbers 42, 4224, 42422424, and -250 by 157.  For this question, **don't** use arrays."
   ]
  },
  {
   "cell_type": "code",
   "execution_count": 33,
   "metadata": {},
   "outputs": [
    {
     "data": {
      "text/plain": [
       "6660320568"
      ]
     },
     "execution_count": 33,
     "metadata": {},
     "output_type": "execute_result"
    }
   ],
   "source": [
    "42422424 * 157"
   ]
  },
  {
   "cell_type": "code",
   "execution_count": 34,
   "metadata": {},
   "outputs": [
    {
     "name": "stdout",
     "output_type": "stream",
     "text": [
      "6594 663168 6660320568 -39250\n"
     ]
    }
   ],
   "source": [
    "first_product = 42*157\n",
    "second_product = 4224 * 157\n",
    "third_product = 42422424 * 157\n",
    "fourth_product = -250 * 157\n",
    "print(first_product, second_product, third_product, fourth_product)"
   ]
  },
  {
   "cell_type": "markdown",
   "metadata": {},
   "source": [
    "**Question 2.** Now, do the same calculation, but using an array called `numbers` and only a single multiplication (`*`) operator.  Store the 4 results in an array named `products`."
   ]
  },
  {
   "cell_type": "code",
   "execution_count": 35,
   "metadata": {},
   "outputs": [
    {
     "data": {
      "text/plain": [
       "array([      6594,     663168, 6660320568,     -39250], dtype=int64)"
      ]
     },
     "execution_count": 35,
     "metadata": {},
     "output_type": "execute_result"
    }
   ],
   "source": [
    "numbers = make_array(42, 4224, 42422424, -250).astype(\"int64\")\n",
    "products = numbers * 157\n",
    "products\n"
   ]
  },
  {
   "cell_type": "markdown",
   "metadata": {},
   "source": [
    "**Question 3.** Oops, we made a typo!  Instead of 157, we wanted to multiply each number by 1577.  Compute the fixed products in the cell below using array arithmetic.  Notice that your job is really easy if you previously defined an array containing the 4 numbers."
   ]
  },
  {
   "cell_type": "code",
   "execution_count": 36,
   "metadata": {},
   "outputs": [
    {
     "data": {
      "text/plain": [
       "array([      66234,     6661248, 66900162648,     -394250], dtype=int64)"
      ]
     },
     "execution_count": 36,
     "metadata": {},
     "output_type": "execute_result"
    }
   ],
   "source": [
    "fixed_products = (numbers * 1577).astype(\"int64\")\n",
    "fixed_products"
   ]
  },
  {
   "cell_type": "markdown",
   "metadata": {},
   "source": [
    "**Question 4.** We've loaded an array of temperatures in the next cell.  Each number is the highest temperature observed on a day at a climate observation station, mostly from the US.  Since they're from the US government agency [NOAA](noaa.gov), all the temperatures are in Fahrenheit.  Convert them all to Celsius by first subtracting 32 from them, then multiplying the results by $\\frac{5}{9}$. Round each result to the nearest integer using the `np.round` function."
   ]
  },
  {
   "cell_type": "code",
   "execution_count": 37,
   "metadata": {},
   "outputs": [
    {
     "data": {
      "text/plain": [
       "array([ -4.,  31.,  32., ...,  17.,  23.,  16.])"
      ]
     },
     "execution_count": 37,
     "metadata": {},
     "output_type": "execute_result"
    }
   ],
   "source": [
    "max_temperatures = Table.read_table(\"temperatures.csv\").column(\"Daily Max Temperature\")\n",
    "\n",
    "celsius_max_temperatures = np.round((max_temperatures -32) * 5/9)\n",
    "celsius_max_temperatures\n",
    "\n"
   ]
  },
  {
   "cell_type": "markdown",
   "metadata": {},
   "source": [
    "**Question 5.** The cell below loads all the *lowest* temperatures from each day (in Fahrenheit).  Compute the size of the daily temperature range for each day.  That is, compute the difference between each daily maximum temperature and the corresponding daily minimum temperature.  **Give your answer in Celsius!**"
   ]
  },
  {
   "cell_type": "code",
   "execution_count": 38,
   "metadata": {},
   "outputs": [
    {
     "data": {
      "text/plain": [
       "array([  7.,  10.,  13., ...,  18.,  12.,  11.])"
      ]
     },
     "execution_count": 38,
     "metadata": {},
     "output_type": "execute_result"
    }
   ],
   "source": [
    "min_temperatures = Table.read_table(\"temperatures.csv\").column(\"Daily Min Temperature\")\n",
    "\n",
    "celsius_temperature_ranges = celsius_max_temperatures - np.round((min_temperatures -32) * 5/9) \n",
    "\n",
    "celsius_temperature_ranges"
   ]
  },
  {
   "cell_type": "markdown",
   "metadata": {},
   "source": [
    "### 4. Old Faithful\n"
   ]
  },
  {
   "cell_type": "markdown",
   "metadata": {},
   "source": [
    "Old Faithful is a geyser in Yellowstone that erupts every 44 to 125 minutes (according to [Wikipedia](https://en.wikipedia.org/wiki/Old_Faithful)). People are [often told that the geyser erupts every hour](http://yellowstone.net/geysers/old-faithful/), but in fact the waiting time between eruptions is more variable. Let's take a look."
   ]
  },
  {
   "cell_type": "markdown",
   "metadata": {},
   "source": [
    "**Question 1.** The first line below assigns `waiting_times` to an array of 272 consecutive waiting times between eruptions, taken from a classic 1938 dataset. Assign the names `shortest`, `longest`, and `average` so that the `print` statement is correct."
   ]
  },
  {
   "cell_type": "code",
   "execution_count": 56,
   "metadata": {},
   "outputs": [
    {
     "name": "stdout",
     "output_type": "stream",
     "text": [
      "Old Faithful erupts every 43 to 96 minutes and every 70.9 minutes on average.\n"
     ]
    }
   ],
   "source": [
    "waiting_times = Table.read_table('old_faithful.csv').column('waiting')\n",
    "\n",
    "shortest = min(waiting_times)\n",
    "longest = max(waiting_times)\n",
    "average = round(np.mean(waiting_times),2)\n",
    "\n",
    "print(\"Old Faithful erupts every\", shortest, \"to\", longest, \"minutes and every\", average, \"minutes on average.\")"
   ]
  },
  {
   "cell_type": "markdown",
   "metadata": {},
   "source": [
    "**Question 2.** Assign `biggest_decrease` to the biggest descrease in waiting time between two consecutive eruptions. For example, the third eruption occurred after 74 minutes and the fourth after 62 minutes, so the decrease in waiting time was 74 - 62 = 12 minutes. *Hint*: You'll need an array arithmetic function [mentioned in the textbook](https://www.inferentialthinking.com/chapters/04/4/arrays.html#Functions-on-Arrays)."
   ]
  },
  {
   "cell_type": "code",
   "execution_count": 57,
   "metadata": {},
   "outputs": [
    {
     "data": {
      "text/plain": [
       "-45"
      ]
     },
     "execution_count": 57,
     "metadata": {},
     "output_type": "execute_result"
    }
   ],
   "source": [
    "biggest_decrease = min(np.diff(waiting_times))\n",
    "biggest_decrease"
   ]
  },
  {
   "cell_type": "markdown",
   "metadata": {},
   "source": [
    "**Question 3.** If you expected Old Faithful to erupt every hour, you would expect to wait a total of `60 * k` minutes to see `k` eruptions. Set `difference_from_expected` to an array with 272 elements, where the element at index `i` is the absolute difference between the expected and actual total amount of waiting time to see the first `i+1` eruptions.  *Hint*: You'll need to compare a cumulative sum to a range.\n",
    "\n",
    "For example, since the first three waiting times are 79, 54, and 74, the total waiting time for 3 eruptions is 79 + 54 + 74 = 207. The expected waiting time for 3 eruptions is 60 * 3 = 180. Therefore, `difference_from_expected.item(2)` should be $|207 - 180| = 27$."
   ]
  },
  {
   "cell_type": "code",
   "execution_count": 58,
   "metadata": {},
   "outputs": [
    {
     "data": {
      "text/plain": [
       "array([  19,   13,   27,   29,   54,   49,   77,  102,   93,  118,  112,\n",
       "        136,  154,  141,  164,  156,  158,  182,  174,  193,  184,  171,\n",
       "        189,  198,  212,  235,  230,  246,  264,  283,  296,  313,  319,\n",
       "        339,  353,  345,  333,  353,  352,  382,  402,  400,  424,  422,\n",
       "        435,  458,  462,  455,  477,  476,  491,  521,  515,  535,  529,\n",
       "        552,  563,  567,  584,  605,  604,  628,  616,  638,  638,  670,\n",
       "        688,  706,  711,  724,  746,  742,  761,  772,  774,  790,  790,\n",
       "        808,  824,  847,  862,  884,  894,  899,  912,  940,  956,  976,\n",
       "        964,  990,  990, 1020, 1010, 1028, 1031, 1043, 1067, 1082, 1073,\n",
       "       1095, 1097, 1125, 1114, 1137, 1158, 1145, 1169, 1161, 1187, 1208,\n",
       "       1223, 1222, 1251, 1270, 1269, 1290, 1280, 1305, 1304, 1331, 1324,\n",
       "       1333, 1350, 1346, 1374, 1395, 1380, 1402, 1397, 1427, 1412, 1435,\n",
       "       1431, 1460, 1446, 1468, 1459, 1485, 1478, 1497, 1518, 1518, 1540,\n",
       "       1557, 1573, 1572, 1592, 1581, 1617, 1610, 1627, 1644, 1649, 1670,\n",
       "       1681, 1691, 1712, 1745, 1738, 1767, 1752, 1778, 1776, 1794, 1800,\n",
       "       1816, 1819, 1847, 1839, 1872, 1861, 1858, 1875, 1883, 1904, 1925,\n",
       "       1938, 1928, 1953, 1967, 1962, 1979, 2002, 2025, 2016, 2034, 2058,\n",
       "       2044, 2067, 2062, 2083, 2080, 2096, 2120, 2137, 2158, 2185, 2202,\n",
       "       2193, 2211, 2211, 2233, 2264, 2257, 2275, 2261, 2278, 2302, 2291,\n",
       "       2314, 2325, 2345, 2334, 2349, 2353, 2369, 2362, 2396, 2391, 2407,\n",
       "       2397, 2419, 2413, 2428, 2446, 2465, 2483, 2501, 2511, 2530, 2540,\n",
       "       2534, 2560, 2550, 2580, 2574, 2568, 2585, 2604, 2608, 2623, 2610,\n",
       "       2636, 2639, 2664, 2686, 2683, 2705, 2712, 2726, 2720, 2743, 2756,\n",
       "       2769, 2797, 2817, 2828, 2851, 2847, 2866, 2884, 2908, 2906, 2929,\n",
       "       2912, 2912, 2927, 2948, 2934, 2964, 2950, 2964], dtype=int32)"
      ]
     },
     "execution_count": 58,
     "metadata": {},
     "output_type": "execute_result"
    }
   ],
   "source": [
    "difference_from_expected = np.cumsum(waiting_times - 60) \n",
    "difference_from_expected"
   ]
  },
  {
   "cell_type": "markdown",
   "metadata": {},
   "source": [
    "**Question 4.** If instead you guess that each waiting time will be the same as the previous waiting time, how many minutes would your guess differ from the actual time, averaging over every wait time except the first one.\n",
    "\n",
    "For example, since the first three waiting times are 79, 54, and 74, the average difference between your guess and the actual time for just the second and third eruption would be $\\frac{|79-54|+ |54-74|}{2} = 22.5$."
   ]
  },
  {
   "cell_type": "code",
   "execution_count": 63,
   "metadata": {},
   "outputs": [
    {
     "data": {
      "text/plain": [
       "20.492592592592594"
      ]
     },
     "execution_count": 63,
     "metadata": {},
     "output_type": "execute_result"
    }
   ],
   "source": [
    "length = len(waiting_times)\n",
    "\n",
    "average_error = np.mean(abs(waiting_times[1:length -1] - waiting_times[0:length - 2]))\n",
    "average_error"
   ]
  },
  {
   "cell_type": "markdown",
   "metadata": {},
   "source": [
    "### 5. Tables\n"
   ]
  },
  {
   "cell_type": "markdown",
   "metadata": {},
   "source": [
    "**Question 1.** Suppose you have 4 apples, 3 oranges, and 3 pineapples.  (Perhaps you're using Python to solve a high school Algebra problem.)  Create a table that contains this information.  It should have two columns: \"fruit name\" and \"count\".  Give it the name `fruits`.\n",
    "\n",
    "**Note:** Use lower-case and singular words for the name of each fruit, like `\"apple\"`."
   ]
  },
  {
   "cell_type": "code",
   "execution_count": 64,
   "metadata": {},
   "outputs": [
    {
     "data": {
      "text/html": [
       "<table border=\"1\" class=\"dataframe\">\n",
       "    <thead>\n",
       "        <tr>\n",
       "            <th>fruit name</th> <th>count</th>\n",
       "        </tr>\n",
       "    </thead>\n",
       "    <tbody>\n",
       "        <tr>\n",
       "            <td>apple     </td> <td>4    </td>\n",
       "        </tr>\n",
       "    </tbody>\n",
       "        <tr>\n",
       "            <td>orange    </td> <td>3    </td>\n",
       "        </tr>\n",
       "    </tbody>\n",
       "        <tr>\n",
       "            <td>pineapple </td> <td>3    </td>\n",
       "        </tr>\n",
       "    </tbody>\n",
       "</table>"
      ],
      "text/plain": [
       "fruit name | count\n",
       "apple      | 4\n",
       "orange     | 3\n",
       "pineapple  | 3"
      ]
     },
     "execution_count": 64,
     "metadata": {},
     "output_type": "execute_result"
    }
   ],
   "source": [
    "# Our solution uses 1 statement split over 3 lines.\n",
    "fruits = Table().with_columns([\n",
    "    'fruit name', make_array('apple', 'orange', 'pineapple'),\n",
    "    'count', make_array(4, 3, 3)\n",
    "])\n",
    "fruits"
   ]
  },
  {
   "cell_type": "markdown",
   "metadata": {},
   "source": [
    "**Question 2.** The file `inventory.csv` contains information about the inventory at a fruit stand.  Each row represents the contents of one box of fruit.  Load it as a table named `inventory`."
   ]
  },
  {
   "cell_type": "code",
   "execution_count": 65,
   "metadata": {},
   "outputs": [
    {
     "data": {
      "text/html": [
       "<table border=\"1\" class=\"dataframe\">\n",
       "    <thead>\n",
       "        <tr>\n",
       "            <th>box ID</th> <th>fruit name</th> <th>count</th>\n",
       "        </tr>\n",
       "    </thead>\n",
       "    <tbody>\n",
       "        <tr>\n",
       "            <td>53686 </td> <td>kiwi      </td> <td>45   </td>\n",
       "        </tr>\n",
       "    </tbody>\n",
       "        <tr>\n",
       "            <td>57181 </td> <td>strawberry</td> <td>123  </td>\n",
       "        </tr>\n",
       "    </tbody>\n",
       "        <tr>\n",
       "            <td>25274 </td> <td>apple     </td> <td>20   </td>\n",
       "        </tr>\n",
       "    </tbody>\n",
       "        <tr>\n",
       "            <td>48800 </td> <td>orange    </td> <td>35   </td>\n",
       "        </tr>\n",
       "    </tbody>\n",
       "        <tr>\n",
       "            <td>26187 </td> <td>strawberry</td> <td>255  </td>\n",
       "        </tr>\n",
       "    </tbody>\n",
       "        <tr>\n",
       "            <td>57930 </td> <td>grape     </td> <td>517  </td>\n",
       "        </tr>\n",
       "    </tbody>\n",
       "        <tr>\n",
       "            <td>52357 </td> <td>strawberry</td> <td>102  </td>\n",
       "        </tr>\n",
       "    </tbody>\n",
       "        <tr>\n",
       "            <td>43566 </td> <td>peach     </td> <td>40   </td>\n",
       "        </tr>\n",
       "    </tbody>\n",
       "</table>"
      ],
      "text/plain": [
       "box ID | fruit name | count\n",
       "53686  | kiwi       | 45\n",
       "57181  | strawberry | 123\n",
       "25274  | apple      | 20\n",
       "48800  | orange     | 35\n",
       "26187  | strawberry | 255\n",
       "57930  | grape      | 517\n",
       "52357  | strawberry | 102\n",
       "43566  | peach      | 40"
      ]
     },
     "execution_count": 65,
     "metadata": {},
     "output_type": "execute_result"
    }
   ],
   "source": [
    "inventory = Table.read_table('inventory.csv')\n",
    "inventory"
   ]
  },
  {
   "cell_type": "markdown",
   "metadata": {},
   "source": [
    "**Question 3.** Does each box at the fruit stand contain a different fruit?"
   ]
  },
  {
   "cell_type": "code",
   "execution_count": 66,
   "metadata": {},
   "outputs": [
    {
     "data": {
      "text/plain": [
       "'No'"
      ]
     },
     "execution_count": 66,
     "metadata": {},
     "output_type": "execute_result"
    }
   ],
   "source": [
    "# Set all_different to \"Yes\" if each box contains a different fruit or to \"No\" if multiple boxes contain the same fruit\n",
    "all_different = 'No'\n",
    "all_different"
   ]
  },
  {
   "cell_type": "markdown",
   "metadata": {},
   "source": [
    "**Question 4.** The file `sales.csv` contains the number of fruit sold from each box last Saturday.  It has an extra column called \"price per fruit (\\$)\" that's the price *per item of fruit* for fruit in that box.  The rows are in the same order as the `inventory` table.  Load these data into a table called `sales`."
   ]
  },
  {
   "cell_type": "code",
   "execution_count": 67,
   "metadata": {},
   "outputs": [
    {
     "data": {
      "text/html": [
       "<table border=\"1\" class=\"dataframe\">\n",
       "    <thead>\n",
       "        <tr>\n",
       "            <th>box ID</th> <th>fruit name</th> <th>count sold</th> <th>price per fruit ($)</th>\n",
       "        </tr>\n",
       "    </thead>\n",
       "    <tbody>\n",
       "        <tr>\n",
       "            <td>53686 </td> <td>kiwi      </td> <td>3         </td> <td>0.5                </td>\n",
       "        </tr>\n",
       "    </tbody>\n",
       "        <tr>\n",
       "            <td>57181 </td> <td>strawberry</td> <td>101       </td> <td>0.2                </td>\n",
       "        </tr>\n",
       "    </tbody>\n",
       "        <tr>\n",
       "            <td>25274 </td> <td>apple     </td> <td>0         </td> <td>0.8                </td>\n",
       "        </tr>\n",
       "    </tbody>\n",
       "        <tr>\n",
       "            <td>48800 </td> <td>orange    </td> <td>35        </td> <td>0.6                </td>\n",
       "        </tr>\n",
       "    </tbody>\n",
       "        <tr>\n",
       "            <td>26187 </td> <td>strawberry</td> <td>25        </td> <td>0.15               </td>\n",
       "        </tr>\n",
       "    </tbody>\n",
       "        <tr>\n",
       "            <td>57930 </td> <td>grape     </td> <td>355       </td> <td>0.06               </td>\n",
       "        </tr>\n",
       "    </tbody>\n",
       "        <tr>\n",
       "            <td>52357 </td> <td>strawberry</td> <td>102       </td> <td>0.25               </td>\n",
       "        </tr>\n",
       "    </tbody>\n",
       "        <tr>\n",
       "            <td>43566 </td> <td>peach     </td> <td>17        </td> <td>0.8                </td>\n",
       "        </tr>\n",
       "    </tbody>\n",
       "</table>"
      ],
      "text/plain": [
       "box ID | fruit name | count sold | price per fruit ($)\n",
       "53686  | kiwi       | 3          | 0.5\n",
       "57181  | strawberry | 101        | 0.2\n",
       "25274  | apple      | 0          | 0.8\n",
       "48800  | orange     | 35         | 0.6\n",
       "26187  | strawberry | 25         | 0.15\n",
       "57930  | grape      | 355        | 0.06\n",
       "52357  | strawberry | 102        | 0.25\n",
       "43566  | peach      | 17         | 0.8"
      ]
     },
     "execution_count": 67,
     "metadata": {},
     "output_type": "execute_result"
    }
   ],
   "source": [
    "sales = Table.read_table('sales.csv')\n",
    "sales"
   ]
  },
  {
   "cell_type": "markdown",
   "metadata": {},
   "source": [
    "**Question 5.** How many fruits did the store sell in total on that day?"
   ]
  },
  {
   "cell_type": "code",
   "execution_count": 68,
   "metadata": {},
   "outputs": [
    {
     "data": {
      "text/plain": [
       "638"
      ]
     },
     "execution_count": 68,
     "metadata": {},
     "output_type": "execute_result"
    }
   ],
   "source": [
    "total_fruits_sold = sales.column('count sold').sum()\n",
    "total_fruits_sold"
   ]
  },
  {
   "cell_type": "markdown",
   "metadata": {},
   "source": [
    "**Question 6.** What was the store's total revenue (the total price of all fruits sold) on that day?\n",
    "\n",
    "*Hint:* If you're stuck, think first about how you would compute the total revenue from just the grape sales."
   ]
  },
  {
   "cell_type": "code",
   "execution_count": 69,
   "metadata": {},
   "outputs": [
    {
     "data": {
      "text/plain": [
       "106.84999999999999"
      ]
     },
     "execution_count": 69,
     "metadata": {},
     "output_type": "execute_result"
    }
   ],
   "source": [
    "total_revenue = sum(sales.column('count sold') * sales.column('price per fruit ($)'))\n",
    "total_revenue"
   ]
  },
  {
   "cell_type": "markdown",
   "metadata": {},
   "source": [
    "**Question 7.** Make a new table called `remaining_inventory`.  It should have the same rows and columns as `inventory`, except that the amount of fruit sold from each box should be subtracted from that box's count, so that the \"count\" is the amount of fruit remaining after Saturday."
   ]
  },
  {
   "cell_type": "code",
   "execution_count": 70,
   "metadata": {},
   "outputs": [
    {
     "data": {
      "text/html": [
       "<table border=\"1\" class=\"dataframe\">\n",
       "    <thead>\n",
       "        <tr>\n",
       "            <th>box ID</th> <th>fruit name</th> <th>count</th>\n",
       "        </tr>\n",
       "    </thead>\n",
       "    <tbody>\n",
       "        <tr>\n",
       "            <td>53686 </td> <td>kiwi      </td> <td>42   </td>\n",
       "        </tr>\n",
       "    </tbody>\n",
       "        <tr>\n",
       "            <td>57181 </td> <td>strawberry</td> <td>22   </td>\n",
       "        </tr>\n",
       "    </tbody>\n",
       "        <tr>\n",
       "            <td>25274 </td> <td>apple     </td> <td>20   </td>\n",
       "        </tr>\n",
       "    </tbody>\n",
       "        <tr>\n",
       "            <td>48800 </td> <td>orange    </td> <td>0    </td>\n",
       "        </tr>\n",
       "    </tbody>\n",
       "        <tr>\n",
       "            <td>26187 </td> <td>strawberry</td> <td>230  </td>\n",
       "        </tr>\n",
       "    </tbody>\n",
       "        <tr>\n",
       "            <td>57930 </td> <td>grape     </td> <td>162  </td>\n",
       "        </tr>\n",
       "    </tbody>\n",
       "        <tr>\n",
       "            <td>52357 </td> <td>strawberry</td> <td>0    </td>\n",
       "        </tr>\n",
       "    </tbody>\n",
       "        <tr>\n",
       "            <td>43566 </td> <td>peach     </td> <td>23   </td>\n",
       "        </tr>\n",
       "    </tbody>\n",
       "</table>"
      ],
      "text/plain": [
       "box ID | fruit name | count\n",
       "53686  | kiwi       | 42\n",
       "57181  | strawberry | 22\n",
       "25274  | apple      | 20\n",
       "48800  | orange     | 0\n",
       "26187  | strawberry | 230\n",
       "57930  | grape      | 162\n",
       "52357  | strawberry | 0\n",
       "43566  | peach      | 23"
      ]
     },
     "execution_count": 70,
     "metadata": {},
     "output_type": "execute_result"
    }
   ],
   "source": [
    "count = inventory.column(\"count\") - sales.column('count sold')\n",
    "remaining_inventory = inventory.with_column('count', count)\n",
    "remaining_inventory"
   ]
  },
  {
   "cell_type": "code",
   "execution_count": null,
   "metadata": {},
   "outputs": [],
   "source": []
  }
 ],
 "metadata": {
  "kernelspec": {
   "display_name": "Python 3",
   "language": "python",
   "name": "python3"
  },
  "language_info": {
   "codemirror_mode": {
    "name": "ipython",
    "version": 3
   },
   "file_extension": ".py",
   "mimetype": "text/x-python",
   "name": "python",
   "nbconvert_exporter": "python",
   "pygments_lexer": "ipython3",
   "version": "3.6.3"
  }
 },
 "nbformat": 4,
 "nbformat_minor": 1
}
